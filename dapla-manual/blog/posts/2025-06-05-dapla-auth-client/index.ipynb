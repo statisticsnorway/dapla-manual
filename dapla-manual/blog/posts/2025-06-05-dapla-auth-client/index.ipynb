{
  "cells": [
    {
      "cell_type": "raw",
      "metadata": {},
      "source": [
        "---\n",
        "title: \"Separering av autentisering i Dapla: Introduksjon av `dapla-auth-client`\"\n",
        "author: \"Johnny Niklasson\"\n",
        "date: 2025-06-05\n",
        "format: html\n",
        "categories: [Dapla, Python, Autentisering]\n",
        "---"
      ],
      "id": "3ab63c33"
    },
    {
      "cell_type": "markdown",
      "metadata": {},
      "source": [
        "## Innledning\n",
        "\n",
        "I dette blogginnlegget presenterer vi endringen der autentiseringsklassen er flyttet ut fra `dapla-toolbelt` og inn i en egen Python-pakke kalt `dapla-auth-client`. Hensikten er å gjøre det mulig å installere og bruke autentisering isolert, uten å måtte laste inn hele verktøykassen i `dapla-toolbelt`.\n",
        "\n",
        "## Hvorfor separere autentisering?\n",
        "\n",
        "1. **Redusere avhengigheter**  \n",
        "   Mange brukere trenger kun autentiseringsbiten for å hente tokens til Google Cloud eller Keycloak. Tidligere måtte man installere og importere hele `dapla-toolbelt`, selv om man bare trengte én liten del. Ved å splitte ut en egen pakke blir installasjonen lettere og mer strømlinjeformet:\n",
        "\n",
        "   ```yaml\n",
        "   dependencies:\n",
        "     - dapla-auth-client>=0.0.5\n",
        "    ```\n",
        "\n",
        "2. **Modularitet og enklere vedlikehold**\n",
        "    Ved å holde autentiseringsflyten adskilt fra resten av dapla-toolbelt, kan vi lansere feilfikser og nye funksjoner for OAuth2/Keycloak uten å påvirke de andre modulene.\n",
        "\n",
        "3. **Lettvektskode for sluttbruker**\n",
        "    Å importere dapla-toolbelt dro med seg en rekke avhengigheter. Med dapla-auth-client får man kun det som trengs for autentisering, og slipper unødvendige pakker.\n",
        "\n",
        "4. **Skalerbarhet for fremtidige utvidelser**\n",
        "    En dedikert autentiseringspakke gir oss frihet til å legge til flere Identity Providers eller nye token-flows senere uten å måtte endre i dapla-toolbelt.\n",
        "\n",
        "## Overgang fra gammelt til nytt bruk\n",
        "\n",
        "### Gammelt oppsett\n",
        "```python\n",
        "from google.cloud import storage\n",
        "from dapla.auth import AuthClient\n",
        "\n",
        "storage_client = storage.Client(\n",
        "    credentials=AuthClient.fetch_google_credentials()\n",
        ")\n",
        "```\n",
        "Her krevde vi eksplisitt innlasting av credentials via AuthClient.fetch_google_credentials() fra dapla-toolbelt. Det medførte at hele dapla-toolbelt ble installert, med alle avhengigheter.\n",
        "\n",
        "### Nytt oppsett\n",
        "\n",
        "```python\n",
        "from google.cloud import storage\n",
        "\n",
        "storage_client = storage.Client()\n",
        "```\n",
        "Nå håndteres Google-autentisering automatisk via Application Default Credentials (ADC). Vi trenger ikke lenger å kalle AuthClient.fetch_google_credentials(), og vi slipper å importere hele dapla-toolbelt.\n",
        "\n",
        "## Installere og ta i bruk dapla-auth-client\n",
        "\n",
        "1. **Installer pakken**"
      ],
      "id": "b72247b7"
    },
    {
      "cell_type": "code",
      "metadata": {
        "md-indent": "    "
      },
      "source": [
        "poetry add dapla-auth-client"
      ],
      "id": "52deea54",
      "execution_count": null,
      "outputs": []
    },
    {
      "cell_type": "markdown",
      "metadata": {},
      "source": [
        "2. **Bytt import**\n",
        "    Dersom du tidligere importerte slik:"
      ],
      "id": "eb161ce8"
    },
    {
      "cell_type": "code",
      "metadata": {
        "md-indent": "    "
      },
      "source": [
        "from dapla.auth import AuthClient"
      ],
      "id": "9e470088",
      "execution_count": null,
      "outputs": []
    },
    {
      "cell_type": "markdown",
      "metadata": {},
      "source": [
        "    bytter du til:"
      ],
      "id": "f6c9bf5d"
    },
    {
      "cell_type": "code",
      "metadata": {
        "md-indent": "    "
      },
      "source": [
        "from dapla_auth_client import AuthClient"
      ],
      "id": "1029b330",
      "execution_count": null,
      "outputs": []
    },
    {
      "cell_type": "markdown",
      "metadata": {},
      "source": [
        "3. **Fjern eksplisitte kall til Google‐credentials**\n",
        "    Bytt ut:\n",
        "    ```python\n",
        "    storage_client = storage.Client(\n",
        "        credentials=AuthClient.fetch_google_credentials()\n",
        "    )\n",
        "    ```\n",
        "    med\n",
        "    ```python\n",
        "    storage_client = storage.Client()\n",
        "\n",
        "    ```\n",
        "\n",
        "For funksjonen fetch_personal_token() for Keycloak i Dapla Lab, importerer du tilsvarende fra dapla_auth_client, men API-et er identisk:\n",
        "\n",
        "```python\n",
        "from dapla_auth_client import AuthClient\n",
        "\n",
        "token = AuthClient.fetch_personal_token(scopes=[\"current_group\", \"all_groups\"])\n",
        "```\n",
        "De deprecated-metodene (fetch_google_credentials(), fetch_google_token(), osv.) vil fortsatt være tilgjengelige i dapla-auth-client en stund til, men gir advarsler ved bruk og fjernes i kommende versjoner. Vi anbefaler å migrere til ADC-mønsteret så snart som mulig.\n",
        "\n",
        "## Oppsummering\n",
        "\n",
        "Ved å skille autentiseringsklassen ut i dapla-auth-client:\n",
        "\n",
        "Får brukerne en lettere installasjon når de kun trenger autentisering.\n",
        "\n",
        "Unngår man unødvendige avhengigheter fra dapla-toolbelt.\n",
        "\n",
        "Gjør vi koden mer modulær og enkel å vedlikeholde.\n",
        "\n",
        "Kan man bruke standard storage.Client() for Google Cloud, uten å tenke på credentials-henting.\n",
        "\n",
        "Ta gjerne kontakt hvis du har spørsmål eller ønsker tilbakemeldinger. Lykke til med migreringen!"
      ],
      "id": "fda5adb4"
    }
  ],
  "metadata": {
    "kernelspec": {
      "name": "ssb-project-cli",
      "language": "python",
      "display_name": "ssb-project-cli"
    }
  },
  "nbformat": 4,
  "nbformat_minor": 5
}