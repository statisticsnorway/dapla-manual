{
 "cells": [
  {
   "cell_type": "raw",
   "metadata": {
    "vscode": {
     "languageId": "raw"
    }
   },
   "source": [
    "---\n",
    "title: Lonboard\n",
    "subtitle: Hvorfor vi har opprettet denne bloggen? \n",
    "categories:\n",
    "  - Kart\n",
    "author:\n",
    "  - name: Bjørn Lie Rapp\n",
    "    affiliation: \n",
    "      - name: Seksjon for befolkningsstatistikk (320)\n",
    "        email: bjorn.rapp@ssb.no\n",
    "date: \"10/17/2024\"\n",
    "date-modified: \"10/17/2024\"\n",
    "image: https://github.com/developmentseed/lonboard/blob/main/assets/dalle-lonboard.jpg\n",
    "image-alt: \"Bilde av skateboard med et kart\"\n",
    "draft: true\n",
    "---"
   ]
  },
  {
   "cell_type": "markdown",
   "metadata": {},
   "source": [
    "Lonboard er et bibliotek for å vise kart i Jupyter notebooks.\n",
    "De som har brukt Geopandas tidligere vet at det er mulig å vise frem kart i Jupyter med explore metoden på en GeoDataFrame, så hva er egentlig spesielt med Lonboard?\n",
    "\n",
    "Lonboard er bygget på [deck.gl](https://deck.gl), et GPU akselerert, høytytende, kartvisualiseringsbibliotek for store data og Anywidget.\n",
    "Navnet er et ordspill. Et «longboard», en type raskt skateboard, et «deck» er den delen av skateboardet du står på. «Lon» en mye brukt forkortelse for «longitude», lengdegrad.\n",
    "\n",
    "Geopandas explore metode, og explore funksjonen i ssb-sgis pakken er bygget på Folium. \n",
    "Hver gang du skal vise frem et kart med Folium må kartdataene konverteres til et format som kalles Geojson, \n",
    "som så sendes ukomprimert fra Jupyter-serven til nettleseren. Dette gjør at du fort går tom for minne om du forsøker å vise et landsdekkene datasett, slik som grunnkretser, tettsteder, eller postnummerområder. \n",
    "Lonboard takler større mengder data ved å overføre data mellom serveren og nettleseren på Parquet-formatet istedenfor Geojson-formatet.\n",
    "\n",
    "Hvor kommer Anywidget inn? Anywidget er et rammeverk for å lage widgets."
   ]
  },
  {
   "cell_type": "code",
   "execution_count": 21,
   "metadata": {},
   "outputs": [],
   "source": [
    "#| include: false\n",
    "import geopandas as gpd\n",
    "import lonboard\n",
    "from lonboard import basemap\n",
    "from mapclassify import greedy\n",
    "from matplotlib import colormaps\n",
    "import numpy as np\n"
   ]
  },
  {
   "cell_type": "code",
   "execution_count": 22,
   "metadata": {},
   "outputs": [
    {
     "data": {
      "text/html": [
       "<div>\n",
       "<style scoped>\n",
       "    .dataframe tbody tr th:only-of-type {\n",
       "        vertical-align: middle;\n",
       "    }\n",
       "\n",
       "    .dataframe tbody tr th {\n",
       "        vertical-align: top;\n",
       "    }\n",
       "\n",
       "    .dataframe thead th {\n",
       "        text-align: right;\n",
       "    }\n",
       "</style>\n",
       "<table border=\"1\" class=\"dataframe\">\n",
       "  <thead>\n",
       "    <tr style=\"text-align: right;\">\n",
       "      <th></th>\n",
       "      <th>grunnkretsnavn</th>\n",
       "      <th>grunnkretsnummer</th>\n",
       "      <th>kommunenummer</th>\n",
       "      <th>geometry</th>\n",
       "    </tr>\n",
       "  </thead>\n",
       "  <tbody>\n",
       "    <tr>\n",
       "      <th>0</th>\n",
       "      <td>Fagernes nord-Skrautvålsvegen</td>\n",
       "      <td>34510108</td>\n",
       "      <td>3451</td>\n",
       "      <td>MULTIPOLYGON (((188273.260 6775295.340, 188136...</td>\n",
       "    </tr>\n",
       "    <tr>\n",
       "      <th>1</th>\n",
       "      <td>Ilseng</td>\n",
       "      <td>34030804</td>\n",
       "      <td>3403</td>\n",
       "      <td>MULTIPOLYGON (((294050.140 6743722.400, 294052...</td>\n",
       "    </tr>\n",
       "    <tr>\n",
       "      <th>2</th>\n",
       "      <td>Sognefjell</td>\n",
       "      <td>34340110</td>\n",
       "      <td>3434</td>\n",
       "      <td>MULTIPOLYGON (((124979.390 6858916.550, 124085...</td>\n",
       "    </tr>\n",
       "    <tr>\n",
       "      <th>3</th>\n",
       "      <td>Nordråk</td>\n",
       "      <td>34470105</td>\n",
       "      <td>3447</td>\n",
       "      <td>MULTIPOLYGON (((241913.330 6741294.510, 241567...</td>\n",
       "    </tr>\n",
       "    <tr>\n",
       "      <th>4</th>\n",
       "      <td>Byre</td>\n",
       "      <td>34340201</td>\n",
       "      <td>3434</td>\n",
       "      <td>MULTIPOLYGON (((174511.100 6874025.010, 174456...</td>\n",
       "    </tr>\n",
       "  </tbody>\n",
       "</table>\n",
       "</div>"
      ],
      "text/plain": [
       "                  grunnkretsnavn  grunnkretsnummer  kommunenummer  \\\n",
       "0  Fagernes nord-Skrautvålsvegen          34510108           3451   \n",
       "1                         Ilseng          34030804           3403   \n",
       "2                     Sognefjell          34340110           3434   \n",
       "3                        Nordråk          34470105           3447   \n",
       "4                           Byre          34340201           3434   \n",
       "\n",
       "                                            geometry  \n",
       "0  MULTIPOLYGON (((188273.260 6775295.340, 188136...  \n",
       "1  MULTIPOLYGON (((294050.140 6743722.400, 294052...  \n",
       "2  MULTIPOLYGON (((124979.390 6858916.550, 124085...  \n",
       "3  MULTIPOLYGON (((241913.330 6741294.510, 241567...  \n",
       "4  MULTIPOLYGON (((174511.100 6874025.010, 174456...  "
      ]
     },
     "execution_count": 22,
     "metadata": {},
     "output_type": "execute_result"
    }
   ],
   "source": [
    "grunnkretser = gpd.read_file(\n",
    "    \"https://nedlasting.geonorge.no/geonorge/Basisdata/Grunnkretser/GML/Basisdata_34_Innlandet_25833_Grunnkretser_GML.zip\",\n",
    "    layer=\"Grunnkrets\",\n",
    "    engine=\"pyogrio\",\n",
    "    columns=[\"grunnkretsnummer\", \"grunnkretsnavn\", \"kommunenummer\"],\n",
    ")\n",
    "\n",
    "grunnkretser.head()"
   ]
  },
  {
   "cell_type": "code",
   "execution_count": 23,
   "metadata": {},
   "outputs": [],
   "source": [
    "#| include: false\n",
    "def omskaler(\n",
    "    s,\n",
    "    max_ut: float,\n",
    "    min_ut: float,\n",
    "    max_cutoff: float | None = None,\n",
    "    min_cutoff: float | None = None,\n",
    "):\n",
    "    max_inn = max(s) if not max_cutoff else max_cutoff\n",
    "    min_inn = min(s) if not min_cutoff else min_cutoff\n",
    "\n",
    "    skalering = (min_ut - max_ut) / (min_inn - max_inn)\n",
    "    s = (s - min_inn) * skalering + min_ut\n",
    "\n",
    "    if max_cutoff and max_inn > max_cutoff:\n",
    "        s = np.minimum(s, max_ut)\n",
    "\n",
    "    if min_cutoff and min_inn < min_cutoff:\n",
    "        s = np.maximum(s, min_ut)\n",
    "\n",
    "    return s"
   ]
  },
  {
   "cell_type": "code",
   "execution_count": 24,
   "metadata": {},
   "outputs": [
    {
     "name": "stderr",
     "output_type": "stream",
     "text": [
      "c:\\Users\\rnl\\.conda\\envs\\ssb\\Lib\\site-packages\\mapclassify\\greedy.py:304: FutureWarning: `use_index` defaults to False but will default to True in future. Set True/False directly to control this behavior and silence this warning\n",
      "  sw = Queen.from_dataframe(gdf, silence_warnings=silence_warnings)\n"
     ]
    }
   ],
   "source": [
    "#| include: false\n",
    "#| warnings: false\n",
    "color = greedy(grunnkretser, strategy=\"balanced\", balance=\"centroid\").map(\n",
    "    colormaps[\"Set2\"].colors.__getitem__\n",
    ")\n",
    "color = (np.stack(color.to_numpy()) * 255).astype(np.uint8)"
   ]
  },
  {
   "cell_type": "code",
   "execution_count": 25,
   "metadata": {},
   "outputs": [],
   "source": [
    "grunnkretser_wgs84 = grunnkretser.to_crs(4326)\n",
    "layer = lonboard.PolygonLayer.from_geopandas(\n",
    "    grunnkretser_wgs84,\n",
    "    opacity=0.2,\n",
    "    line_miter_limit=1,\n",
    "    line_width_units = \"pixels\",\n",
    "    get_fill_color=color,\n",
    "    get_line_color=[255,255,255],\n",
    "    auto_highlight=True,\n",
    ")\n"
   ]
  },
  {
   "cell_type": "code",
   "execution_count": 26,
   "metadata": {},
   "outputs": [],
   "source": [
    "#| include: false\n",
    "store_grunnkretser = grunnkretser.loc[grunnkretser.area > 40_000_000]\n",
    "tekststørrelse = omskaler(store_grunnkretser.area, 16, 12)\n",
    "\n",
    "tekst = lonboard.experimental.TextLayer.from_geopandas(\n",
    "    store_grunnkretser.set_geometry(store_grunnkretser.geometry.representative_point()).to_crs(4326),\n",
    "    get_text=store_grunnkretser[\"grunnkretsnavn\"],\n",
    "    font_family=\"Helsinki\",\n",
    "    get_size=tekststørrelse,\n",
    "    pickable=False,\n",
    "    get_color=[255,255,255],\n",
    ")"
   ]
  },
  {
   "cell_type": "code",
   "execution_count": null,
   "metadata": {},
   "outputs": [],
   "source": [
    "#| output: false\n",
    "kart = lonboard.Map(\n",
    "    [layer, tekst],\n",
    "    basemap_style=basemap.CartoBasemap.DarkMatterNoLabels,\n",
    "    _height=500,\n",
    ")\n",
    "\n",
    "kart"
   ]
  },
  {
   "cell_type": "code",
   "execution_count": 28,
   "metadata": {},
   "outputs": [],
   "source": [
    "#| echo: false\n",
    "# Qaurto støtter selvfølgelig ikke Anywidget, \n",
    "# men vi kan bruke kompabilitetsfunksjonen as_html, \n",
    "# fjerner resultatet av forrige celle og later bare som om resultatet kommer derfra.\n",
    "# kart.as_html()"
   ]
  },
  {
   "cell_type": "markdown",
   "metadata": {},
   "source": [
    "![](mapselection.png)"
   ]
  },
  {
   "cell_type": "code",
   "execution_count": 30,
   "metadata": {},
   "outputs": [
    {
     "name": "stdout",
     "output_type": "stream",
     "text": [
      "Det er 41 grunnkretser i utvalget\n"
     ]
    }
   ],
   "source": [
    "if kart.selected_bounds:\n",
    "    xmin, ymin, xmax, ymax = kart.selected_bounds\n",
    "    utvalg = grunnkretser_wgs84.cx[xmin:xmax, ymin:ymax]\n",
    "    print(f\"Det er {len(utvalg)} grunnkretser i utvalget\")"
   ]
  },
  {
   "cell_type": "code",
   "execution_count": null,
   "metadata": {},
   "outputs": [],
   "source": []
  }
 ],
 "metadata": {
  "kernelspec": {
   "display_name": "SSB",
   "language": "python",
   "name": "ssb"
  },
  "language_info": {
   "codemirror_mode": {
    "name": "ipython",
    "version": 3
   },
   "file_extension": ".py",
   "mimetype": "text/x-python",
   "name": "python",
   "nbconvert_exporter": "python",
   "pygments_lexer": "ipython3",
   "version": "3.11.8"
  }
 },
 "nbformat": 4,
 "nbformat_minor": 2
}
