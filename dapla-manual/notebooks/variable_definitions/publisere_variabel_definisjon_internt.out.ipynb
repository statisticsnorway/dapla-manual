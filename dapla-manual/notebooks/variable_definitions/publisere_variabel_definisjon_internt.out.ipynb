{
  "cells": [
    {
      "cell_type": "markdown",
      "metadata": {},
      "source": [
        "# Publisere en variabel definisjon internt\n",
        "\n",
        "Denne Notebook er for deg som:\n",
        "\n",
        "-   Har en kvalitetsjekket variabeldefinisjon med status `UTKAST`\n",
        "-   Ønsker å publisere internt\n",
        "\n",
        "Forutsetninger: - Du må ha `Kortnavn` for variabeldefinisjonen du vil\n",
        "publisere\n",
        "\n",
        "## Oppsett\n",
        "\n",
        "Koden under kjøres som forberedelse for påfølgende steg"
      ],
      "id": "ac1996e4-7c72-444e-9b9e-a6cb018b35da"
    },
    {
      "cell_type": "code",
      "execution_count": null,
      "metadata": {},
      "outputs": [],
      "source": [
        "# Nødvendig import\n",
        "import logging\n",
        "import sys\n",
        "\n",
        "from dapla_metadata.variable_definitions import Vardef\n",
        "from dapla_metadata.variable_definitions import models\n",
        "\n",
        "# Redusere størrelsen på Traceback for mer tydelige feilmeldinger\n",
        "%xmode Minimal\n",
        "\n",
        "# Gjøre at logging vises\n",
        "logging.basicConfig(\n",
        "    format=\"%(levelname)s: %(message)s\",\n",
        "    level=logging.INFO,\n",
        "    stream=sys.stdout,\n",
        "    force=True,\n",
        ")"
      ],
      "id": "cell-3"
    },
    {
      "cell_type": "markdown",
      "metadata": {},
      "source": [
        "## Viktig informasjon om publisering internt\n",
        "\n",
        "Merk at prosessen med å publisere er irreversibel. Når en\n",
        "variabeldefinisjon er publisert kan den ikke slettes eller avpubliseres.\n",
        "\n",
        "Ved intern publisering må alle obligatoriske felt ha verdi.\n",
        "\n",
        "Obligatoriske felt: - navn (`name`) - kortnavn (`short_name`) -\n",
        "definisjon (`definition`) - enhetstyper (`unit_types`) -\n",
        "statistikkområder (`subject_fields`) - inneholder særlige kategorier av\n",
        "personopplysninger(`contains_special_categories_of_personal_data`) -\n",
        "gyldig f.o.m.(`valid_from`) - kontakt(`contact`) - eier (`owner`)\n",
        "\n",
        "Flerspråklige felt (som for eksempel `navn` eller `definisjon`) må ha\n",
        "verdi på minst et språk (bokmål, nynorsk eller engelsk). Lister (som for\n",
        "eksempel `enhetstyper`) må ha minst et element i listen.\n",
        "\n",
        "## Hente ut variabeldefinisjon\n",
        "\n",
        "Kjør cellen under.\n",
        "\n",
        "Et input-felt vises – skriv inn kortnavnet ditt og trykk **Enter**.\n",
        "\n",
        "⚠ Viktig: Trykk alltid **Enter**, selv om du ikke skriver noe, for å\n",
        "unngå at Jupyter-kjernen henger seg opp.\n",
        "\n",
        "Her henter vi variabeldefinisjonen som skal publisereres."
      ],
      "id": "e3d22a46-03ab-47a6-b737-e6027a7077d2"
    },
    {
      "cell_type": "code",
      "execution_count": null,
      "metadata": {},
      "outputs": [],
      "source": [
        "mitt_kortnavn = input(\"Skriv inn kortnavn\").strip()\n",
        "min_variabel = Vardef.get_variable_definition_by_shortname(short_name=mitt_kortnavn)\n",
        "\n",
        "if min_variabel.variable_status in {\n",
        "    models.VariableStatus.PUBLISHED_EXTERNAL,\n",
        "    models.VariableStatus.PUBLISHED_INTERNAL,\n",
        "}:\n",
        "    print(f\"Variabeldefinisjon '{min_variabel.short_name}' er allerede publisert!\")\n",
        "else:\n",
        "    print(\n",
        "        f\"Variabeldefinisjon valgt: {min_variabel.short_name} (ID: {min_variabel.id}). Klar for intern publisering.\"\n",
        "    )"
      ],
      "id": "cell-6"
    },
    {
      "cell_type": "markdown",
      "metadata": {},
      "source": [
        "## Publisere internt\n",
        "\n",
        "I koden under lagres oppdatert status i Vardef.\n",
        "\n",
        "For at statusendringen skal tre i kraft må dette steget fullføres uten\n",
        "feil."
      ],
      "id": "61b8d01f-5eff-427c-8acd-6e1c6b69e77e"
    },
    {
      "cell_type": "code",
      "execution_count": null,
      "metadata": {},
      "outputs": [],
      "source": [
        "min_variabel = min_variabel.publish_internal()\n",
        "print(f\"Ny status: {min_variabel.variable_status}\")"
      ],
      "id": "cell-8"
    }
  ],
  "nbformat": 4,
  "nbformat_minor": 5,
  "metadata": {
    "kernelspec": {
      "name": "python3",
      "display_name": "Python 3",
      "language": "python"
    },
    "language_info": {
      "name": "python",
      "codemirror_mode": {
        "name": "ipython"
      },
      "file_extension": ".py",
      "mimetype": "text/x-python",
      "nbconvert_exporter": "python"
    }
  }
}