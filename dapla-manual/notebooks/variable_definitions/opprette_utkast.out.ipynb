{
  "cells": [
    {
      "cell_type": "markdown",
      "metadata": {},
      "source": [
        "# Opprette variabel definisjon\n",
        "\n",
        "Denne Notebook er for deg som:\n",
        "\n",
        "-   Ønsker å opprette en ny variabeldefinisjon\n",
        "\n",
        "## Oppsett\n",
        "\n",
        "Koden under kjøres som forberedelse for påfølgende steg"
      ],
      "id": "b27e697f-d438-4318-8b91-ad9a14b2b050"
    },
    {
      "cell_type": "code",
      "execution_count": null,
      "metadata": {},
      "outputs": [],
      "source": [
        "# Nødvendig import\n",
        "import logging\n",
        "import sys\n",
        "\n",
        "from dapla_metadata.variable_definitions import Vardef\n",
        "\n",
        "# Redusere størrelsen på Traceback for mer tydelige feilmeldinger\n",
        "%xmode Minimal\n",
        "\n",
        "# Gjøre at logging vises\n",
        "logging.basicConfig(\n",
        "    format=\"%(levelname)s: %(message)s\",\n",
        "    level=logging.INFO,\n",
        "    stream=sys.stdout,\n",
        "    force=True,\n",
        ")"
      ],
      "id": "cell-3"
    },
    {
      "cell_type": "markdown",
      "metadata": {},
      "source": [
        "## Opprette mal yaml fil\n",
        "\n",
        "Som et utgangspunkt for å legge inn informasjonsfeltene for en\n",
        "variabeldefinisjon så kan man opprette en yaml fil. Den har alle feltene\n",
        "listet opp med beskrivelser og i noen tilfeller placeholder verdier.\n",
        "Disse fylles ut også går man videre til neste steg, å sende\n",
        "informasjonen til Vardef for å opprette definisjonen.\n",
        "\n",
        "Filen: - Opprettes som standard på\n",
        "`/home/onyxia/work/variable_definitions/variable_definition_template_<timestamp>.yaml` -\n",
        "Aldri overskrives\n",
        "\n",
        "Det returneres filstien til malen(`path_to_template` under), om det er\n",
        "ønskelig å benytte videre i kode."
      ],
      "id": "0d60dbd3-d26d-47a3-b61f-fff5f8cca004"
    },
    {
      "cell_type": "code",
      "execution_count": null,
      "metadata": {},
      "outputs": [],
      "source": [
        "path_to_template = Vardef.write_template_to_file()"
      ],
      "id": "cell-5"
    },
    {
      "cell_type": "markdown",
      "metadata": {},
      "source": [
        "## Fylle ut malen\n",
        "\n",
        "Åpne yaml filen og legge inn verdier for informasjonsfeltene. Pass på å\n",
        "legge inn verdier for alle obligatoriske feltene, ellers skal kommer det\n",
        "til å feile på opprettelse.\n",
        "\n",
        "## Opprette variabel definisjonen i vardef\n",
        "\n",
        "Her sendes informasjonen i yaml fila til Vardef tjenesten for å opprette\n",
        "en ny variabeldefinisjon. På dette steget er det streng validering på\n",
        "informasjonen sendt inn slik at vi kan oppretteholde høy datakavalitet.\n",
        "Hvis det feiler på validering så blir det kommunisert med en *error*.\n",
        "Det skal stå i erroren hva som gikk galdt og evt. hva man kan gjøre for\n",
        "å korrigere det.\n",
        "\n",
        "Som standard leses inn den *nyeste* template fil som finnes. Hvis man\n",
        "ønsker en annen fil, så kan man spesifisere det ved å send inn filstien."
      ],
      "id": "23fc7e51-451c-4059-b60d-c15d273bff96"
    },
    {
      "cell_type": "code",
      "execution_count": null,
      "metadata": {},
      "outputs": [],
      "source": [
        "my_draft = Vardef.create_draft_from_file()"
      ],
      "id": "cell-8"
    }
  ],
  "nbformat": 4,
  "nbformat_minor": 5,
  "metadata": {
    "kernelspec": {
      "name": "python3",
      "display_name": "Python 3",
      "language": "python"
    },
    "language_info": {
      "name": "python",
      "codemirror_mode": {
        "name": "ipython"
      },
      "file_extension": ".py",
      "mimetype": "text/x-python",
      "nbconvert_exporter": "python"
    }
  }
}