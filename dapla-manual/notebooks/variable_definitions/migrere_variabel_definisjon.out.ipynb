{
  "cells": [
    {
      "cell_type": "markdown",
      "metadata": {},
      "source": [
        "# Migrere en variabel definisjon fra Vardok til Vardef\n",
        "\n",
        "Denne Notebook er for deg som:\n",
        "\n",
        "-   Har en eksisterende variabeldefinisjon i Vardok og ønsker å migrere\n",
        "    denne til Vardef\n",
        "\n",
        "Forutsetninger: - Du må ha en `id` i Vardok for variabeldefinisjonen du\n",
        "ønsker å migrere\n",
        "\n",
        "## Oppsett\n",
        "\n",
        "Koden under kjøres som forberedelse for påfølgende steg"
      ],
      "id": "1299ff0f-b514-45e2-b7d9-c59f054f0e5c"
    },
    {
      "cell_type": "code",
      "execution_count": null,
      "metadata": {},
      "outputs": [],
      "source": [
        "# Nødvendig import\n",
        "import logging\n",
        "import sys\n",
        "\n",
        "from dapla_metadata.variable_definitions import Vardef\n",
        "\n",
        "# Redusere størrelsen på Traceback for mer tydelige feilmeldinger\n",
        "%xmode Minimal\n",
        "\n",
        "# Gjøre at logging vises\n",
        "logging.basicConfig(\n",
        "    format=\"%(levelname)s: %(message)s\",\n",
        "    level=logging.INFO,\n",
        "    stream=sys.stdout,\n",
        "    force=True,\n",
        ")"
      ],
      "id": "cell-3"
    },
    {
      "cell_type": "markdown",
      "metadata": {},
      "source": [
        "## Viktig informasjon om Migrering\n",
        "\n",
        "Når en variabel fra Vardok er blitt migrert til Vardef vil den opprettes\n",
        "som et `UTKAST`, uavhengig av hvilken status variabelen hadde i Vardok.\n",
        "Dette blir gjort slik at man kan oppdatere variabelen etter den er\n",
        "migrert til å oppfylle de kravene for publisering Vardef.\n",
        "\n",
        "En variabel kan kun migreres en gang, slik at når en variabel med en\n",
        "Vardok id er migrert til vardef vil det ikke være mulig å migrere denne\n",
        "id-en på nytt.\n",
        "\n",
        "Merk at om Vardok variabelen ikke har gyldig fra dato, vil denne bli\n",
        "satt til `1900-01-01`.\n",
        "\n",
        "Om det ikke eksisterer et kortnavn for variabelen i vardok, vil dette\n",
        "bli automatisk generert under migrering.\n",
        "\n",
        "## Migrere en variabeldefinisjon\n",
        "\n",
        "Kjør cellen under.\n",
        "\n",
        "Et input-felt vises – skriv inn Vardok id og trykk **Enter**.\n",
        "\n",
        "⚠ Viktig: Trykk alltid **Enter**, selv om du ikke skriver noe, for å\n",
        "unngå at Jupyter-kjernen henger seg opp.\n",
        "\n",
        "I koden under migreres en variabel fra Vardok til Vardef med en gitt\n",
        "Vardok id."
      ],
      "id": "15eae100-ec29-48da-aec1-3190cf67841d"
    },
    {
      "cell_type": "code",
      "execution_count": null,
      "metadata": {},
      "outputs": [],
      "source": [
        "min_vardok_id = input(\"Skriv inn Vardok id\").strip()\n",
        "\n",
        "min_migrert_variabel = Vardef.migrate_from_vardok(min_vardok_id)\n",
        "print(min_migrert_variabel)"
      ],
      "id": "cell-6"
    }
  ],
  "nbformat": 4,
  "nbformat_minor": 5,
  "metadata": {
    "kernelspec": {
      "name": "python3",
      "display_name": "Python 3",
      "language": "python"
    },
    "language_info": {
      "name": "python"
    }
  }
}