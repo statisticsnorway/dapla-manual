{
  "cells": [
    {
      "cell_type": "markdown",
      "metadata": {},
      "source": [
        "# Redigere et utkast\n",
        "\n",
        "Denne Notebooken er for deg som:\n",
        "\n",
        "-   Har opprettet en variabeldefinisjon med status `UTKAST`\n",
        "-   Ønsker å jobbe videre med den før evt. publisering\n",
        "\n",
        "Forutsetninger: - Du må ha `Kortnavn` for variabeldefinisjonen du vil\n",
        "redigere\n",
        "\n",
        "## Oppsett\n",
        "\n",
        "Koden under kjøres som forberedelse for påfølgende steg"
      ],
      "id": "815c1338-f27c-44cf-9500-a9e1a1f6d4e8"
    },
    {
      "cell_type": "code",
      "execution_count": null,
      "metadata": {},
      "outputs": [],
      "source": [
        "# Nødvendig import\n",
        "import logging\n",
        "import sys\n",
        "\n",
        "from dapla_metadata.variable_definitions import Vardef\n",
        "\n",
        "# Redusere størrelsen på Traceback for mer tydelige feilmeldinger\n",
        "%xmode Minimal\n",
        "\n",
        "# Gjøre at logging vises\n",
        "logging.basicConfig(\n",
        "    format=\"%(levelname)s: %(message)s\",\n",
        "    level=logging.INFO,\n",
        "    stream=sys.stdout,\n",
        "    force=True,\n",
        ")"
      ],
      "id": "cell-3"
    },
    {
      "cell_type": "markdown",
      "metadata": {},
      "source": [
        "## Skrive variabeldefinisjonen til fil\n",
        "\n",
        "Kjør cellen under.\n",
        "\n",
        "Et input-felt vises – skriv inn kortnavnet ditt og trykk **Enter**.\n",
        "\n",
        "⚠ Viktig: Trykk alltid **Enter**, selv om du ikke skriver noe, for å\n",
        "unngå at Jupyter-kjernen henger seg opp.\n",
        "\n",
        "For å redigere en variabeldefinisjon kan man skrive den til en yaml fil.\n",
        "Som standard er filen lagret på\n",
        "`/home/onyxia/work/variable_definitions/variable_definition_<short_name>_<id>_<timestamp>.yaml`."
      ],
      "id": "2d1b6525-44ba-466e-86c8-8cba808af3b5"
    },
    {
      "cell_type": "code",
      "execution_count": null,
      "metadata": {},
      "outputs": [],
      "source": [
        "mitt_kortnavn = input(\"Skriv inn kortnavn\").strip()\n",
        "\n",
        "# Skrive variabeldefinisjonen til fil.\n",
        "# Stien til filen skal vises som output under.\n",
        "min_variabel = Vardef.get_variable_definition_by_shortname(\n",
        "    short_name=mitt_kortnavn,\n",
        ").to_file()"
      ],
      "id": "cell-5"
    },
    {
      "cell_type": "markdown",
      "metadata": {},
      "source": [
        "## Redigere\n",
        "\n",
        "Åpne filen vist til i outputen over.\n",
        "\n",
        "Filen skal inneholde alle felt utfylt som de er lagret i Vardef\n",
        "tjenesten per nå. Det er også noen beskrivelser av feltene slik at det\n",
        "er lettere å forstå hvilke verdier man skal legge inn.\n",
        "\n",
        "Det er bare å redigere direkte i filen frem til man er fornøyd også\n",
        "sender man det tilbake til Vardef tjenesten for lagring i neste steg.\n",
        "\n",
        "## Lagre tilbake til Vardef tjenesten\n",
        "\n",
        "Som standard finnes den *nyeste* filen som hører til\n",
        "variabeldefinisjonen automatisk. Det er gjort ved hjelp av tidsstempelet\n",
        "i filnavnet. Hvis man ønsker å sende inn en eldre fil, så kan man\n",
        "spesifisere dette med `file_path` parameteren."
      ],
      "id": "98f25bc0-b5f7-4be3-a955-fe4a34441f93"
    },
    {
      "cell_type": "code",
      "execution_count": null,
      "metadata": {},
      "outputs": [],
      "source": [
        "min_variabel.update_draft_from_file()"
      ],
      "id": "cell-8"
    }
  ],
  "nbformat": 4,
  "nbformat_minor": 5,
  "metadata": {
    "kernelspec": {
      "name": "python3",
      "display_name": "Python 3",
      "language": "python"
    },
    "language_info": {
      "name": "python",
      "codemirror_mode": {
        "name": "ipython"
      },
      "file_extension": ".py",
      "mimetype": "text/x-python",
      "nbconvert_exporter": "python"
    }
  }
}