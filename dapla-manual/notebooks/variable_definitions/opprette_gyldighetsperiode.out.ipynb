{
  "cells": [
    {
      "cell_type": "markdown",
      "metadata": {},
      "source": [
        "# Opprette gyldighetsperiode\n",
        "\n",
        "Denne Notebook er for deg som:\n",
        "\n",
        "-   Har en variabeldefinisjon med status `PUBLISERT INTERNT` eller\n",
        "    `PUBLISERT EKSTERNT`\n",
        "-   Ønsker å utføre en større endring som innebærerer:\n",
        "    -   endret definisjonstekst\n",
        "    -   ny gyldig fra dato\n",
        "\n",
        "Forutsetninger: - Du må ha `Kortnavn` for variabeldefinisjonen\n",
        "\n",
        "## Oppsett\n",
        "\n",
        "Koden under kjøres som forberedelse for påfølgende steg"
      ],
      "id": "55506bea-0fe0-4cf1-b442-89cc1faae713"
    },
    {
      "cell_type": "code",
      "execution_count": null,
      "metadata": {},
      "outputs": [],
      "source": [
        "# Nødvendig import\n",
        "import logging\n",
        "import sys\n",
        "\n",
        "from dapla_metadata.variable_definitions import Vardef\n",
        "\n",
        "# Redusere størrelsen på Traceback for mer tydelige feilmeldinger\n",
        "%xmode Minimal\n",
        "\n",
        "# Gjøre at logging vises\n",
        "logging.basicConfig(\n",
        "    format=\"%(levelname)s: %(message)s\",\n",
        "    level=logging.INFO,\n",
        "    stream=sys.stdout,\n",
        "    force=True,\n",
        ")"
      ],
      "id": "cell-3"
    },
    {
      "cell_type": "markdown",
      "metadata": {},
      "source": [
        "## Viktig informasjon om gyldighetsperioder\n",
        "\n",
        "For å opprette ny gyldighetsperiode må følgende felt endres: - Gyldig\n",
        "fra dato (`valid_from`) - fra når skal endringen tre i kraft - Oppdatert\n",
        "definisjonstekst på alle språk som definisjonsteksten er lagret på\n",
        "\n",
        "Når en ny gyldighetsperiode opprettes vil forrige gyldighetsperiode\n",
        "lukkes dagen før ny `valid_from` dato.\n",
        "\n",
        "## Skriv variabeldefinisjon til fil\n",
        "\n",
        "Kjør cellen under.\n",
        "\n",
        "Et input-felt vises – skriv inn kortnavnet ditt og trykk **Enter**.\n",
        "\n",
        "⚠ Viktig: Trykk alltid **Enter**, selv om du ikke skriver noe, for å\n",
        "unngå at Jupyter-kjernen henger seg opp.\n",
        "\n",
        "Variabeldefinisjon vil bli skrevet til en yaml fil.\n",
        "\n",
        "Som standard blir filen lagret på\n",
        "\n",
        "`/home/onyxia/work/variable_definitions/variable_definition_<short_name>_<id>_<timestamp>.yaml.`\n",
        "\n",
        "Du vil også se filstien i output når du kjører koden under."
      ],
      "id": "9f6a95e0-cc1f-40d4-bb5e-375302c2d2d1"
    },
    {
      "cell_type": "code",
      "execution_count": null,
      "metadata": {},
      "outputs": [],
      "source": [
        "mitt_kortnavn = input(\"Skriv inn kortnavn\").strip()\n",
        "\n",
        "# Skriv variabeldefinisjon til fil\n",
        "min_variabel = Vardef.get_variable_definition_by_shortname(\n",
        "    short_name=mitt_kortnavn\n",
        ").to_file()"
      ],
      "id": "cell-6"
    },
    {
      "cell_type": "markdown",
      "metadata": {},
      "source": [
        "## Rediger fil\n",
        "\n",
        "Åpne filen.\n",
        "\n",
        "Filen inneholder alle felt utfylt som de er lagret i Vardef tjenesten\n",
        "per nå.\n",
        "\n",
        "Det er også beskrivelser av feltene slik at det er lettere å forstå\n",
        "hvilke verdier man skal legge inn.\n",
        "\n",
        "Det er viktig at du kun endrer feltene du vil oppdatere/korrigere feil.\n",
        "\n",
        "## Lagre endringer\n",
        "\n",
        "I koden under lagres oppdaterte verdier i Vardef.\n",
        "\n",
        "For at endringene skal tre i kraft må dette steget fullføres uten feil."
      ],
      "id": "a988cb48-22e2-42b6-9f3a-68fa8a3ade08"
    },
    {
      "cell_type": "code",
      "execution_count": null,
      "metadata": {},
      "outputs": [],
      "source": [
        "min_variabel.create_validity_period_from_file()"
      ],
      "id": "cell-9"
    }
  ],
  "nbformat": 4,
  "nbformat_minor": 5,
  "metadata": {
    "kernelspec": {
      "name": "python3",
      "display_name": "Python 3",
      "language": "python"
    },
    "language_info": {
      "name": "python",
      "codemirror_mode": {
        "name": "ipython"
      },
      "file_extension": ".py",
      "mimetype": "text/x-python",
      "nbconvert_exporter": "python"
    }
  }
}