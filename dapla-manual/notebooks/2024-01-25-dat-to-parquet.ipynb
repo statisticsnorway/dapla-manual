{
 "cells": [
  {
   "cell_type": "raw",
   "id": "8c946d30-49bf-48f2-915b-260ba0dc1be5",
   "metadata": {},
   "source": [
    "---\n",
    "title: Fra arkiv-dat til parquet i prodsonen\n",
    "subtitle: Send innlastingsscript til saspy og skriv ned til parquet med pandas.\n",
    "categories:\n",
    "  - Python\n",
    "  - Arkiv\n",
    "  - Modernisering\n",
    "  - Fra bakke til sky\n",
    "author:\n",
    "  - name: Carl F. Corneil\n",
    "    affiliation:\n",
    "      - name: Seksjon for Kultur- og Utdanningsstatistikk (360)\n",
    "        email: cfc@ssb.no\n",
    "date: 01/19/2024\n",
    "date-modified: 01/22/2024\n",
    "draft: false\n",
    "freeze: true\n",
    "---"
   ]
  },
  {
   "cell_type": "markdown",
   "id": "688f33b4-1914-4e36-9b6d-a2f609e49f20",
   "metadata": {},
   "source": [
    "# Fra dat-fil direkte til parquetfil i prodsonen med saspy\n",
    "Historisk data hos SSB ligger i arkivet som \"flate filer\".\n",
    "\n",
    "At en fil er \"flat\" betyr at den består av faste posisjoner.\n",
    "\n",
    "\n",
    "## Flat fil vs. CSV\n",
    "Hvor en CSV bruker semicolon `;` som skilletegn (og dermed kan ha ulik bredde på radene sine):\n",
    "```csv\n",
    "012345;;Ola Nordmann;\n",
    "345678;Kvinne;Kari Nordmann;\n",
    "```\n",
    "Er en flat fil, med faste posisjoner, avhengig av at man feks. bruker mellomrom-tegn for å plassere all tekst i korrekte \"tegnkolonner\":\n",
    "```csv\n",
    "012345      Ola Nordmann \\n\n",
    "345678KvinneKari Nordmann\\n\n",
    "```\n",
    "Her tar jeg med \\n (som tegn for ny linje) for å vise at bak `Ola Nordmann ` er det ett ekstra mellomrom for å fylle ut lengden `Kari Nordmann` tar.\n",
    "Bredden på hver kolonne er dermed en type *metadata*, som vi trenger for å lese inn faste filer. I tillegg trenger vi *metadata* om *kolonne-datatypene* som vi også ønsker ved innlasting av en CSV (string, character, numeric, int, float osv.).\n",
    "\n",
    "\n",
    "## Innlesing av flat fil direkte i pandas\n",
    "I pandas, for å laste inn den flate filen direkte, må vi da vite bredden på hver kolonne:\n",
    "\n",
    "Her må vi manuelt navngi kolonnene, sette datatype, tolke tomme verdier, og regne på/telle hvor brede alle kolonnene er.\n",
    "Det som er ekstra kjedelig, er at om vi ser på ett SAS-innlastingsscript som vi kan eksportere fra \"gamle datadok i prodsonen\", så ligger det info der om dette, datatyper, bredder, navn, hvorfor kan vi ikke bare bruke ett sas-innlast script for å hente inn dat-filene i Python direkte? (Skal bli litt mindre retorisk nedover her altså, lover.)"
   ]
  },
  {
   "cell_type": "code",
   "execution_count": 1,
   "id": "456d4542-1733-4572-9e6d-2632bdffc64d",
   "metadata": {},
   "outputs": [
    {
     "data": {
      "text/html": [
       "<div>\n",
       "<style scoped>\n",
       "    .dataframe tbody tr th:only-of-type {\n",
       "        vertical-align: middle;\n",
       "    }\n",
       "\n",
       "    .dataframe tbody tr th {\n",
       "        vertical-align: top;\n",
       "    }\n",
       "\n",
       "    .dataframe thead th {\n",
       "        text-align: right;\n",
       "    }\n",
       "</style>\n",
       "<table border=\"1\" class=\"dataframe\">\n",
       "  <thead>\n",
       "    <tr style=\"text-align: right;\">\n",
       "      <th></th>\n",
       "      <th>pers_id</th>\n",
       "      <th>kjonn</th>\n",
       "      <th>navn</th>\n",
       "    </tr>\n",
       "  </thead>\n",
       "  <tbody>\n",
       "    <tr>\n",
       "      <th>0</th>\n",
       "      <td>112345</td>\n",
       "      <td>NaN</td>\n",
       "      <td>Ola Nordmann</td>\n",
       "    </tr>\n",
       "    <tr>\n",
       "      <th>1</th>\n",
       "      <td>345678</td>\n",
       "      <td>Kvinne</td>\n",
       "      <td>Kari Nordmann</td>\n",
       "    </tr>\n",
       "  </tbody>\n",
       "</table>\n",
       "</div>"
      ],
      "text/plain": [
       "  pers_id   kjonn           navn\n",
       "0  112345     NaN   Ola Nordmann\n",
       "1  345678  Kvinne  Kari Nordmann"
      ]
     },
     "execution_count": 1,
     "metadata": {},
     "output_type": "execute_result"
    }
   ],
   "source": [
    "import pandas as pd\n",
    "from io import StringIO  # Nødvendig siden vi sender en streng, ikke en filsti til .read_fwf\n",
    "instring = \"112345      Ola Nordmann \\n345678KvinneKari Nordmann\\n\"\n",
    "df = pd.read_fwf(StringIO(instring),\n",
    "                 names=['pers_id', 'kjonn', 'navn'],  # Navngi kolonner\n",
    "                 dtype='object',  # Alle kolonnene settes til \"object\"\n",
    "                 na_values=['.', ' .'],  # Hvilke karakterer bruker SAS for tom verdi?\n",
    "                 widths=[6, 6, 13])  # Tell/regn ut dissa sjøl\n",
    "df"
   ]
  },
  {
   "cell_type": "markdown",
   "id": "5aa6ce8b-e681-4d13-b88f-3de8557e45a4",
   "metadata": {},
   "source": [
    "Her må vi manuelt \n",
    "- navngi kolonnene\n",
    "- sette datatype\n",
    "- tolke tomme verdier\n",
    "- og regne på/telle hvor brede alle kolonnene er.\n",
    "\n",
    "Om du kun skal lese inn en fil, og ikke er motstander av å legge inn dette, så holder dette kanskje? Men om du vil ha en mer programmatisk tilnærming, les videre.\n",
    "\n",
    "## Har vi ikke info om bredder og datatyper i SAS-innlastingsscriptene allerede?\n",
    "\n",
    "Det som er ekstra kjedelig, er at om vi ser på ett SAS-innlastingsscript som vi kan eksportere fra \"gamle datadok i prodsonen\", så ligger det info der om dette: datatyper, bredder og navn, hvorfor kan vi ikke bare bruke ett sas-innlast script for å hente inn dat-filene i Python direkte?"
   ]
  },
  {
   "cell_type": "code",
   "execution_count": 2,
   "id": "78b833ea-29e0-4316-a592-4ae2eed90db4",
   "metadata": {},
   "outputs": [],
   "source": [
    "script = \"\"\"\n",
    "DATA sas_data;\n",
    "   INFILE '/ssb/bruker/felles/flatfileksempel_dapla_manual_blogg.dat' MISSOVER PAD LRECL=36;\n",
    "   INPUT\n",
    "      @1 pers_id 6.0\n",
    "      @7 kjonn $CHAR6.0\n",
    "      @13 navn $CHAR13.0\n",
    "   ;\n",
    "RUN;\n",
    "\"\"\""
   ]
  },
  {
   "cell_type": "markdown",
   "id": "b263a1a4-f8ab-4d45-816c-6d3241e0292d",
   "metadata": {},
   "source": [
    "I teorien kunne man ekstrahert tall og slikt fra dette scriptet, og sendt det inn i `pd.read_fwf()`, men er ikke det også en relativ stor jobb å ta? \n",
    "\n",
    "Og hva når man kommer til flyt-tall og det er punktumer i flatfila, og begge tallene på slutten av linja er i bruk, typ: `6.3`.\n",
    "Er det 9 tegn, 10 inkludert punktumet? <br />Visste du at SAS også har valide datotyper? Dette er jeg for lat til å finne ut av, det må finnes en enklere måte?\n",
    "\n",
    "## Last innlastingsscriptet direkte fra en fil og inn i en variabel i Python\n",
    "Innlastingsscriptene er ikke encodet med UTF8 (slik Python forventer), så vi må spesifisere encodingen ved innlast:"
   ]
  },
  {
   "cell_type": "code",
   "execution_count": 3,
   "id": "af8cf022-4834-49fc-83f2-2a279ea9de5c",
   "metadata": {},
   "outputs": [
    {
     "name": "stdout",
     "output_type": "stream",
     "text": [
      "DATA sas_data;\n",
      "   INFILE '/ssb/bruker/felles/flatfileksempel_dapla_manual_blogg.dat' MISSOVER PAD LRECL=36;\n",
      "   INPUT\n",
      "      @1 pers_id 6.0\n",
      "      @7 kjonn $CHAR6.0\n",
      "      @13 navn $CHAR13.0\n",
      "   ;\n",
      "RUN;\n"
     ]
    }
   ],
   "source": [
    "sas_script_path = \"/ssb/bruker/felles/flatfileksempel_dapla_manual_blogg.sas\"\n",
    "with open(sas_script_path, \"r\", encoding=\"latin1\") as sas_script:\n",
    "    script = sas_script.read().strip()\n",
    "    script = \"DATA \" + script.split(\"DATA \")[1] # Forkort ned scriptet til det vi trenger\n",
    "print(script)"
   ]
  },
  {
   "cell_type": "markdown",
   "id": "9e4dae65-55e3-4b80-bcce-be80e6756e25",
   "metadata": {},
   "source": [
    "Nå ligger innholdet i sas-scriptet som en streng i variabelen `script`.\n",
    "\n",
    "## Sett opp saspy med kryptert passord\n",
    "Når vi nok uansett er i prodsonen med datfilene våre, så kan vi jo utnytte at sas-servene ligger der.\n",
    "\n",
    "**Resten av oppskriften forutsetter derfor at det kjøres i prodsonen.** \n",
    "\n",
    "Saspy er en pakke skrevet av SAS-folka sjøl, med den kan vi snakke med en sas-server vi har tilgang på, fra python.\n",
    "\n",
    "I pakken `ssb-fagfunksjoner`har vi gjort noen forenklinger på toppen av dette, som lar deg lagre passord i brukermappen din ol.\n",
    "Innstaller pakken med `poetry add ssb-fagfunksjoner`. (Husk å kjøre `ssb-project build` etterpå, for å få pakken inn i notebookene dine.)\n",
    "\n",
    "Om du aldri har brukt pakken før, kjør denne funksjonen og følg instruksen for å lagre passordet ditt:"
   ]
  },
  {
   "cell_type": "code",
   "execution_count": 4,
   "id": "dc23a7de-abda-436e-bf82-0a6792f40edc",
   "metadata": {},
   "outputs": [
    {
     "name": "stdout",
     "output_type": "stream",
     "text": [
      "Help on function set_password in module fagfunksjoner.prodsone.saspy_ssb:\n",
      "\n",
      "set_password(password: str)\n",
      "    Pass into this function, an encrypted version of your password that you can get\n",
      "    in SAS EG, running the following code (swap MY PASSWORD for your actual common-password):\n",
      "    \n",
      "    proc pwencode in='MY PASSWORD' method=sas004;\n",
      "    run;\n",
      "    \n",
      "    In the log-window in SAS EG you should then recieve an encrypted version of your password,\n",
      "    that looks something like this {SAS004}C598BA0A77F74607464634566CCD0D7BB8EBDEEA4B73C440\n",
      "    Send this as the parameter into this function.\n",
      "    \n",
      "    Parameters\n",
      "    ----------\n",
      "    password: str\n",
      "        Your password encrypted using SAS EG\n",
      "\n"
     ]
    }
   ],
   "source": [
    "from fagfunksjoner.prodsone import saspy_ssb\n",
    "help(saspy_ssb.set_password)\n",
    "#saspy_ssb.set_password(\"\")  # Bruk denne linjen etter å ha lest og fulgt instruksjonen"
   ]
  },
  {
   "cell_type": "markdown",
   "id": "d0dbee73-75de-4f86-b869-d486ac26f24c",
   "metadata": {},
   "source": [
    "## Send innlastscriptet til SAS-serveren med saspy og få en pandas DataFrame tilbake\n",
    "Når du har ett passord lagret fra SAS EG, så kan du konstruere en \"sas session\", dette er en tilkobling til sas-serverene:"
   ]
  },
  {
   "cell_type": "code",
   "execution_count": 5,
   "id": "2e430f5f-6318-4b27-9cec-c48b41339c6e",
   "metadata": {},
   "outputs": [
    {
     "name": "stdout",
     "output_type": "stream",
     "text": [
      "SAS Connection established. Subprocess id is 9967\n",
      "\n",
      "SAS Connection terminated. Subprocess id was 9967\n"
     ]
    },
    {
     "data": {
      "text/html": [
       "<div>\n",
       "<style scoped>\n",
       "    .dataframe tbody tr th:only-of-type {\n",
       "        vertical-align: middle;\n",
       "    }\n",
       "\n",
       "    .dataframe tbody tr th {\n",
       "        vertical-align: top;\n",
       "    }\n",
       "\n",
       "    .dataframe thead th {\n",
       "        text-align: right;\n",
       "    }\n",
       "</style>\n",
       "<table border=\"1\" class=\"dataframe\">\n",
       "  <thead>\n",
       "    <tr style=\"text-align: right;\">\n",
       "      <th></th>\n",
       "      <th>pers_id</th>\n",
       "      <th>kjonn</th>\n",
       "      <th>navn</th>\n",
       "    </tr>\n",
       "  </thead>\n",
       "  <tbody>\n",
       "    <tr>\n",
       "      <th>0</th>\n",
       "      <td>112345.0</td>\n",
       "      <td>NaN</td>\n",
       "      <td>Ola Nordmann</td>\n",
       "    </tr>\n",
       "    <tr>\n",
       "      <th>1</th>\n",
       "      <td>345678.0</td>\n",
       "      <td>Kvinne</td>\n",
       "      <td>Kari Nordmann</td>\n",
       "    </tr>\n",
       "  </tbody>\n",
       "</table>\n",
       "</div>"
      ],
      "text/plain": [
       "    pers_id   kjonn           navn\n",
       "0  112345.0     NaN   Ola Nordmann\n",
       "1  345678.0  Kvinne  Kari Nordmann"
      ]
     },
     "execution_count": 5,
     "metadata": {},
     "output_type": "execute_result"
    }
   ],
   "source": [
    "from fagfunksjoner import saspy_session\n",
    "sas = saspy_session()  # Fagfunksjoner-pakken hjelper deg med å lage en tilkobling\n",
    "result = sas.submit(script)  # Vi bruker tilkoblingen, og sender inn scriptet vi lastet tidligere\n",
    "log = result[\"LOG\"]  # Du kan se på loggen om du vil\n",
    "df_frasas = sas.sd2df(\"sas_data\", \"work\")  # Be sas-serveren om å sende tabellen den har lastet med scriptet, tilbake som en dataframe\n",
    "sas._endsas()  # La oss være snille med sas-serverene og faktisk lukke tilkoblingen når vi har det vi trenger\n",
    "df_frasas"
   ]
  },
  {
   "cell_type": "markdown",
   "id": "950b82e3-8d07-4075-8bc9-d1dd8d8af992",
   "metadata": {},
   "source": [
    "### Vurder kolonne-datatyper\n",
    "Vi har nå en pandas dataframe med datatyper, men disse er basert på den lave mengden datatyper i SAS.\n",
    "- Character mappes gjerne til \"object\" i pandas, ikke den strengere varianten \"string\" (tok du 'an?)\n",
    "- Numeric mappes stort sett til \"float64\" i pandas, vi får som regel ikke heltall direkte \"Int64\""
   ]
  },
  {
   "cell_type": "code",
   "execution_count": 6,
   "id": "18003022-5e49-4d32-b4ec-a5beb59b97fe",
   "metadata": {},
   "outputs": [
    {
     "data": {
      "text/plain": [
       "pers_id    float64\n",
       "kjonn       object\n",
       "navn        object\n",
       "dtype: object"
      ]
     },
     "execution_count": 6,
     "metadata": {},
     "output_type": "execute_result"
    }
   ],
   "source": [
    "df_frasas.dtypes"
   ]
  },
  {
   "cell_type": "markdown",
   "id": "5461d115-5713-4db2-819a-d2068fcb1df7",
   "metadata": {},
   "source": [
    "Om du vil la pandas gjøre ett nytt forsøk på å gjette på datatyper kan du gjøre noe som dette:"
   ]
  },
  {
   "cell_type": "code",
   "execution_count": 7,
   "id": "eb9a79b2-8f6c-4835-82fb-073d33af81e4",
   "metadata": {},
   "outputs": [
    {
     "data": {
      "text/plain": [
       "pers_id             Int64\n",
       "kjonn      string[python]\n",
       "navn       string[python]\n",
       "dtype: object"
      ]
     },
     "execution_count": 7,
     "metadata": {},
     "output_type": "execute_result"
    }
   ],
   "source": [
    "df_pd_dtypes = df_frasas.convert_dtypes()\n",
    "df_pd_dtypes.dtypes"
   ]
  },
  {
   "cell_type": "markdown",
   "id": "e91c84a7-0631-424a-99ff-fe6e93e6d870",
   "metadata": {},
   "source": [
    "Om du vil teste min selvskrevne funksjon for å gjette på datatyper så ligger den i fellesfunksjons-pakken:"
   ]
  },
  {
   "cell_type": "code",
   "execution_count": 8,
   "id": "be32de8d-4a50-4c9e-87c0-b13639378add",
   "metadata": {},
   "outputs": [
    {
     "name": "stdout",
     "output_type": "stream",
     "text": [
      "\n",
      "Memory usage before cleanup:\n",
      "378\n",
      "\n",
      "Memory usage after cleanup:\n",
      "396\n",
      "104 % of original size.\n"
     ]
    },
    {
     "data": {
      "text/plain": [
       "pers_id             Int32\n",
       "kjonn      string[python]\n",
       "navn       string[python]\n",
       "dtype: object"
      ]
     },
     "execution_count": 8,
     "metadata": {},
     "output_type": "execute_result"
    }
   ],
   "source": [
    "from fagfunksjoner import auto_dtype\n",
    "df_auto = auto_dtype(df_frasas)\n",
    "df_auto.dtypes"
   ]
  },
  {
   "cell_type": "markdown",
   "id": "a6e2135a-babb-46ea-8349-a96b7cfee71e",
   "metadata": {},
   "source": [
    "Legg merke til at med scriptet så er heltallet enda mindre enn over. Æ gjør en del litt kule ting sjø.\n",
    "\n",
    "\n",
    "Sjekk gjerne ut parameteret `cardinality_threshold`, om du er interessert i å automatisk sette `categorical dtypes`.\n",
    "\n",
    "## Lagre dataframen til parquet\n",
    "Null problem dette nå, når datasettet allerede finnes i pandas."
   ]
  },
  {
   "cell_type": "code",
   "execution_count": 9,
   "id": "3e64f03e-1343-4217-875d-1c2f989eea92",
   "metadata": {},
   "outputs": [],
   "source": [
    "df_auto.to_parquet(\"/ssb/bruker/felles/flatfileksempel_dapla_manual_blogg.parquet\")"
   ]
  },
  {
   "cell_type": "markdown",
   "id": "07b954c0-7cad-4ec0-815a-73d3951c8374",
   "metadata": {},
   "source": [
    "## Videre lesning\n",
    "I omleggingen av NUDB (Nasjonal utdanningsdatabase), måtte vi konvertere hele arkivet vårt på 750+ dat-filer.\n",
    "\n",
    "Det var ønskelig å slippe å lagre til sas7bdat i mellom, for å slippe mye dataduplikasjon og arbeidsprosesser.\n",
    "\n",
    "I stor grad kunne dette arbeidet automatiseres (bortsett fra å lagre ut innlastingsscript fra gamle datadok). Funksjonene jeg utviklet for dette ligger stort sett i denne filen:<br />\n",
    "[github.com/utd-nudb/prodsone/konverter_arkiv/archive.py](https://github.com/statisticsnorway/utd-nudb/blob/main/prodsone/konverter_arkiv/archive.py)"
   ]
  }
 ],
 "metadata": {
  "kernelspec": {
   "display_name": "dapla_manual_kernel",
   "language": "python",
   "name": "dapla_manual_kernel"
  },
  "language_info": {
   "codemirror_mode": {
    "name": "ipython",
    "version": 3
   },
   "file_extension": ".py",
   "mimetype": "text/x-python",
   "name": "python",
   "nbconvert_exporter": "python",
   "pygments_lexer": "ipython3",
   "version": "3.10.9"
  }
 },
 "nbformat": 4,
 "nbformat_minor": 5
}
