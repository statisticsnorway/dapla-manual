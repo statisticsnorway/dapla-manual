{
 "cells": [
  {
   "cell_type": "markdown",
   "id": "2ba21cca-b28a-4a04-b647-8c8d5954ad99",
   "metadata": {},
   "source": [
    "### Editering av enkel dataframe "
   ]
  },
  {
   "cell_type": "markdown",
   "id": "30cf1630-9b77-4837-bb2c-95ebbd45a6f1",
   "metadata": {},
   "source": [
    "#### Imports"
   ]
  },
  {
   "cell_type": "code",
   "execution_count": null,
   "id": "bf9736e7-f87b-4db8-93e6-7386afecaf96",
   "metadata": {},
   "outputs": [],
   "source": [
    "from ssb_dash_framework import main_layout\n",
    "from ssb_dash_framework import app_setup\n",
    "from ssb_dash_framework import set_variables\n",
    "from ssb_dash_framework import EditingTableTab # Tab modulen\n",
    "from ssb_dash_framework import EditingTableWindow # Vindu modulen\n",
    "from ssb_dash_framework import apply_edits\n",
    "\n",
    "import pandas as pd\n",
    "import numpy as np\n",
    "\n",
    "import os\n",
    "import uuid\n",
    "from datetime import datetime, timezone\n",
    "\n",
    "from fagfunksjoner import next_version_path"
   ]
  },
  {
   "cell_type": "markdown",
   "id": "f73b09a0-8f3c-4400-86bd-9427ada55646",
   "metadata": {},
   "source": [
    "#### Les inn data"
   ]
  },
  {
   "cell_type": "code",
   "execution_count": null,
   "id": "23f090cf-19b1-4324-a914-f1bc37541965",
   "metadata": {},
   "outputs": [],
   "source": [
    "filsti_data = '/buckets/produkt/editering/editering_test_v1.parquet'"
   ]
  },
  {
   "cell_type": "code",
   "execution_count": null,
   "id": "0a359abb-cd7d-40ee-8768-f3d768e9f057",
   "metadata": {},
   "outputs": [],
   "source": [
    "df = pd.read_parquet(\n",
    "    filsti_data\n",
    ")"
   ]
  },
  {
   "cell_type": "code",
   "execution_count": null,
   "id": "6d18c5ce-d1ae-4de1-8dae-1cfc70cdda71",
   "metadata": {},
   "outputs": [],
   "source": [
    "filsti_logg = '/buckets/produkt/editering/logg/prosessdata/prosess-editering_test_v1.jsonl'\n",
    "try: os.makedirs('/buckets/produkt/editering/logg/prosessdata') # lag mappe for logg \n",
    "except: pass"
   ]
  },
  {
   "cell_type": "markdown",
   "id": "7c8172a6-950e-45d7-a88a-64ca1e327a03",
   "metadata": {},
   "source": [
    "#### Klargjøre data"
   ]
  },
  {
   "cell_type": "markdown",
   "id": "b8cca02f-9762-41f6-955c-4badf9024aac",
   "metadata": {},
   "source": [
    "Editeringen avhenger av at man har en *uuid*-kolonne i dataframen. Dette er for å forsikre at riktig rad blir endret."
   ]
  },
  {
   "cell_type": "code",
   "execution_count": null,
   "id": "4b73cc7e-d89e-4211-9060-226bb357e663",
   "metadata": {},
   "outputs": [],
   "source": [
    "if 'uuid' not in df.columns: df['uuid'] = [uuid.uuid4() for _ in range(len(df))]"
   ]
  },
  {
   "cell_type": "markdown",
   "id": "758587d3-9cc1-43e8-9cd2-43a67d6e1da8",
   "metadata": {},
   "source": [
    "### Kjør app"
   ]
  },
  {
   "cell_type": "markdown",
   "id": "004e5acf-f250-4ed1-aff1-6e86c5b31bc2",
   "metadata": {},
   "source": [
    "#### App setup "
   ]
  },
  {
   "cell_type": "code",
   "execution_count": null,
   "id": "06f8fea2-7941-4bc9-a096-cbd116b8ffd2",
   "metadata": {},
   "outputs": [],
   "source": [
    "port = 8070\n",
    "service_prefix = os.getenv(\"JUPYTERHUB_SERVICE_PREFIX\", \"/\")\n",
    "domain = os.getenv(\"JUPYTERHUB_HTTP_REFERER\", None)\n",
    "theme = \"cosmo\" # sjekk ut flere temaer: https://www.dash-bootstrap-components.com/docs/themes/explorer/ \n",
    "app = app_setup(port, service_prefix, theme)\n",
    "app_timestamp = datetime.now()"
   ]
  },
  {
   "cell_type": "markdown",
   "id": "88257d01-035a-4357-9950-237c9d0abd2f",
   "metadata": {},
   "source": [
    "#### Velg variabler "
   ]
  },
  {
   "cell_type": "code",
   "execution_count": null,
   "id": "d19514fb-9630-4ca3-853f-e4bd9e601a5e",
   "metadata": {},
   "outputs": [],
   "source": [
    "set_variables([\"orgnr\",\"aar\"]) # Dette gjør at orgnr og aar er tilgjengelig i applikasjonen din.\n",
    "start_verdier = { # Valgfritt å ha med, men kan være praktisk for brukervennlighet. Puttes inn i main_layout() funksjonen.\n",
    "    \"orgnr\": \"971526920\", \n",
    "    \"aar\": \"2020\"\n",
    "}\n",
    "\n",
    "# Definer get_data funkjson\n",
    "def get_data(orgnr,aar):\n",
    "    return df[(df['orgnr'] == orgnr) & (df['aar']==aar)]\n",
    "    \n",
    "enhetstabell = EditingTableTab(\n",
    "    label=\"Enhetstabell\",\n",
    "    inputs=[\"orgnr\", \"aar\"], # evt. start_verdier.keys()\n",
    "    states=[],\n",
    "    get_data_func=get_data,\n",
    "    output=\"aar\",\n",
    "    log_filepath = filsti_logg,\n",
    "    justify_edit=False\n",
    "    \n",
    ")\n",
    "\n",
    "tab_list = [\n",
    "    enhetstabell,\n",
    "]\n",
    "window_list = []\n",
    "\n",
    "app.layout = main_layout(window_list, tab_list, default_values = start_verdier, )\n",
    "\n",
    "if __name__ == \"__main__\":\n",
    "    app.run(\n",
    "        port=port,\n",
    "        jupyter_server_url=domain,\n",
    "        jupyter_mode=\"tab\",\n",
    "    )"
   ]
  },
  {
   "cell_type": "markdown",
   "id": "781b0ed3-36da-43db-9f88-42db011d91fe",
   "metadata": {},
   "source": [
    "#### "
   ]
  },
  {
   "cell_type": "markdown",
   "id": "28d822b9-fb31-42d3-9078-3f5b35977319",
   "metadata": {},
   "source": [
    "#### Påføre endringer fra logg"
   ]
  },
  {
   "cell_type": "code",
   "execution_count": null,
   "id": "9e187367-19db-478a-a556-9f9f91c300dd",
   "metadata": {},
   "outputs": [],
   "source": [
    "logg = pd.read_json(filsti_logg, lines = True)\n",
    "\n",
    "print(logg)"
   ]
  },
  {
   "cell_type": "code",
   "execution_count": null,
   "id": "98ff63c4-6bff-4d75-b420-3eea1f26e66a",
   "metadata": {},
   "outputs": [],
   "source": [
    "df_editert = apply_edits(df, filsti_logg, app_timestamp)"
   ]
  },
  {
   "cell_type": "markdown",
   "id": "f2964a89-c31c-433e-8693-5998a019d822",
   "metadata": {},
   "source": [
    "#### Sjekk hva som har blitt endret "
   ]
  },
  {
   "cell_type": "code",
   "execution_count": null,
   "id": "6f4a14c5-dfdb-4748-ae19-530be95e37ff",
   "metadata": {},
   "outputs": [],
   "source": [
    "pd.concat([df,df_editert]).drop_duplicates(keep=False)"
   ]
  },
  {
   "cell_type": "markdown",
   "id": "f515c751-446c-4641-b002-ca20d271f2cc",
   "metadata": {},
   "source": [
    "#### Lagre det editerte datasettet"
   ]
  },
  {
   "cell_type": "code",
   "execution_count": null,
   "id": "039b0e0f-9c3d-436f-ad8f-46e2b48b481c",
   "metadata": {},
   "outputs": [],
   "source": [
    "filsti_data_neste_versjon = next_version_path(filsti_data)\n",
    "print(filsti_data_neste_versjon)"
   ]
  },
  {
   "cell_type": "code",
   "execution_count": null,
   "id": "25e8737a-15e8-488e-ae9a-dab788b157f8",
   "metadata": {},
   "outputs": [],
   "source": [
    "df.to_parquet(filsti_data_neste_versjon)"
   ]
  }
 ],
 "metadata": {
  "kernelspec": {
   "display_name": "Python 3 (ipykernel)",
   "language": "python",
   "name": "python3"
  },
  "language_info": {
   "codemirror_mode": {
    "name": "ipython",
    "version": 3
   },
   "file_extension": ".py",
   "mimetype": "text/x-python",
   "name": "python",
   "nbconvert_exporter": "python",
   "pygments_lexer": "ipython3",
   "version": "3.11.9"
  }
 },
 "nbformat": 4,
 "nbformat_minor": 5
}
