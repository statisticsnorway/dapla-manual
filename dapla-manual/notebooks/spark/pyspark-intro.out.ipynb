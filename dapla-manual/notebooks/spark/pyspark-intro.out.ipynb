{
  "cells": [
    {
      "cell_type": "markdown",
      "metadata": {},
      "source": [
        "# Introduksjon til PySpark\n",
        "\n",
        "[Apache Spark](https://spark.apache.org/) er et sterkt verktøy som\n",
        "utvider mulighetsrommet for databehandling med R og Python.\n",
        "Kjernefunksjonaliteten ligger i at den lar deg kjøre en jobb på flere\n",
        "maskiner samtidig, noe som ikke er mulig med klassiske rammeverk som\n",
        "**Pandas** og **Tidyverse**. Følgelig er det et rammeverk som blant\n",
        "annet er veldig egnet for å prosessere store datamengder eller gjøre\n",
        "store beregninger. Les om mer om [Apache Spark i\n",
        "Dapla-manualen](./spark.html)\n",
        "\n",
        "I denne notebooken vises noen enkle eksempler på hvordan du kan jobbe\n",
        "med data med\n",
        "[PySpark](https://spark.apache.org/docs/latest/api/python/index.html),\n",
        "et Python-grensesnitt mot Spark.\n",
        "\n",
        "## Oppsett\n",
        "\n",
        "Når du logger deg inn på Dapla kan du velge mellom 2 ferdigoppsatte\n",
        "*kernels* for å jobbe med PySpark:\n",
        "\n",
        "1.  Pyspark (local)\n",
        "2.  Pyspark (k8s cluster)\n",
        "\n",
        "Den første lar deg bruke Spark på en enkeltmaskin, mens den andre lar\n",
        "deg distribuere kjøringen på mange maskiner avhengig av hvor store\n",
        "jobbene er. I eksemplene under brukes **Pyspark (local)**."
      ],
      "id": "0c42346d-9707-4a59-a60b-4939ab51899d"
    },
    {
      "cell_type": "code",
      "execution_count": 1,
      "metadata": {
        "tags": []
      },
      "outputs": [],
      "source": [
        "# Importer biblioteker\n",
        "import numpy as np\n",
        "from pyspark.sql import SparkSession\n",
        "from pyspark.sql.functions import date_format, explode, expr, sequence, sum, avg\n",
        "from pyspark.sql.types import DateType, DoubleType, StructField, StructType\n",
        "\n",
        "# Initialierer en SparkSession\n",
        "spark = (\n",
        "    SparkSession.builder.master(\"local[2]\")\n",
        "    .appName(\"Dapla-manual-example\")\n",
        "    .getOrCreate()\n",
        ")"
      ],
      "id": "first-cell"
    },
    {
      "cell_type": "markdown",
      "metadata": {},
      "source": [
        "I koden over importerer vi de bibliotekene vi skal bruke under. Grunnen\n",
        "til at vi importerer `pyspark.sql` er at dette er at **Spark SQL** er\n",
        "Apache Spark sin modul for å jobbe med strukturerte data. Og som navnet\n",
        "tilsier vil det si at vi kan blande Python og SQL i koden vår. Vi skal\n",
        "nærmere på hvordan man bruke SQL fra PySpark-notebook senere.\n",
        "\n",
        "Spark tilbyr også et eget grensesnitt, **Spark UI**, for å monitorere\n",
        "hva som skjer under en SparkSession. Vi kan bruke følgende kommando for\n",
        "å få opp en lenke til Spark UI i notebooken vår:"
      ],
      "id": "33c26b64-1ca5-430b-a7c7-3e78246712ed"
    },
    {
      "cell_type": "code",
      "execution_count": 2,
      "metadata": {
        "tags": []
      },
      "outputs": [
        {
          "output_type": "display_data",
          "metadata": {},
          "data": {
            "text/html": [
              "\n",
              "        <div>\n",
              "            <p><b>SparkContext</b></p>\n",
              "\n",
              "            <p><a href=\"/user/obr@ssb.no/proxy/4041/jobs/\">Spark UI</a></p>\n",
              "\n",
              "            <dl>\n",
              "              <dt>Version</dt>\n",
              "                <dd><code>v3.3.1</code></dd>\n",
              "              <dt>Master</dt>\n",
              "                <dd><code>local[*]</code></dd>\n",
              "              <dt>AppName</dt>\n",
              "                <dd><code>pyspark-shell</code></dd>\n",
              "            </dl>\n",
              "        </div>\n",
              "        "
            ]
          }
        }
      ],
      "source": [
        "spark.sparkContext"
      ],
      "id": "b10a7561-5cf0-47af-9e34-c07974449c8c"
    },
    {
      "cell_type": "markdown",
      "metadata": {},
      "source": [
        "Klikker du på **Spark UI**-lenken så tar den deg til dashboard som lar\n",
        "deg monitorere, debugge, optimalisere og forstå kjøringene dine. Det kan\n",
        "være et svært nyttig verktøy i mange tilfeller.\n",
        "\n",
        "## Generere data\n",
        "\n",
        "Vi kan begynne med å generere en Spark DataFrame med en kolonne som\n",
        "inneholder månedlige datoer for perioden 2000M1-2023M8."
      ],
      "id": "a361bc27-d277-4fb4-b3d5-1afc63a2fde9"
    },
    {
      "cell_type": "code",
      "execution_count": 3,
      "metadata": {
        "tags": []
      },
      "outputs": [
        {
          "output_type": "stream",
          "name": "stdout",
          "text": [
            "+----------+\n",
            "|      Date|\n",
            "+----------+\n",
            "|2000-01-01|\n",
            "|2000-02-01|\n",
            "|2000-03-01|\n",
            "|2000-04-01|\n",
            "|2000-05-01|\n",
            "+----------+\n",
            "only showing top 5 rows\n"
          ]
        }
      ],
      "source": [
        "# Genererer månedlige data\n",
        "dates_df = spark.range(1).select(\n",
        "    explode(\n",
        "        sequence(\n",
        "            start=expr(\"date '2000-01-01'\"),\n",
        "            stop=expr(\"date '2023-08-01'\"),\n",
        "            step=expr(\"interval 1 month\"),\n",
        "        )\n",
        "    ).alias(\"Date\")\n",
        ")\n",
        "dates_df.show(5)"
      ],
      "id": "3d9d1e1d-8173-47b6-a70b-be84c38a7bbc"
    },
    {
      "cell_type": "markdown",
      "metadata": {},
      "source": [
        "En Spark DataFrame er en distribuert samling av data som er organisert\n",
        "inn i kolonner. Siden Spark lar deg distribuere kjøringer på flere\n",
        "maskiner, er DataFrames optimalisert for å kunne splittes opp slik at de\n",
        "kan brukes på flere maskiner. Med andre er dette ikke det samme som en\n",
        "Pandas dataframe mange kjenner fra før.\n",
        "\n",
        "Over genererte vi en datokolonne. For å få litt mer data kan vi også\n",
        "generere 100 kolonner med tidsseriedata og så printer vi de 2 første av\n",
        "disse:"
      ],
      "id": "00b1a85f-26f0-48fd-9ae7-f4038397ef7d"
    },
    {
      "cell_type": "code",
      "execution_count": 4,
      "metadata": {
        "tags": []
      },
      "outputs": [
        {
          "output_type": "stream",
          "name": "stdout",
          "text": [
            "+------------------+------------------+\n",
            "|           serie00|           serie01|\n",
            "+------------------+------------------+\n",
            "|10.410703377184355| 21.06318801110079|\n",
            "|10.509249410154466|  19.5674295298024|\n",
            "| 9.618310122060274|17.635805093465642|\n",
            "| 9.691112692298294|18.593842915949082|\n",
            "| 9.903675228685067|20.012215769058564|\n",
            "+------------------+------------------+\n",
            "only showing top 5 rows\n"
          ]
        }
      ],
      "source": [
        "# Genererer random walk data\n",
        "schema = StructType(\n",
        "    [StructField(f\"serie{i:02d}\", DoubleType(), True) for i in range(100)]\n",
        ")\n",
        "\n",
        "data = [\n",
        "    tuple((10 + np.random.normal(0, 1, 100)).cumsum().tolist())\n",
        "    for _ in range(284)  # 284 months from 2000-01 to 2023-08\n",
        "]\n",
        "\n",
        "data_df = spark.createDataFrame(data, schema=schema)\n",
        "\n",
        "data_df.select(\"serie00\", \"serie01\").show(5)"
      ],
      "id": "b292de78-6144-47a6-ba9e-0fc2947dd7b9"
    },
    {
      "cell_type": "markdown",
      "metadata": {},
      "source": [
        "Til slutt kan vi joine de to datasettene sammen og lage noen kolonner\n",
        "som viser år, kvartal og måned. Deretter printer vi ut noen av kolonnene\n",
        "med kommandoen `show()`."
      ],
      "id": "6567334b-66db-4dba-b264-da614fc4f10f"
    },
    {
      "cell_type": "code",
      "execution_count": 5,
      "metadata": {
        "tags": []
      },
      "outputs": [
        {
          "output_type": "stream",
          "name": "stdout",
          "text": [
            "+----------+----+-------+-----+------------------+------------------+\n",
            "|      Date|Year|Quarter|Month|           serie00|           serie01|\n",
            "+----------+----+-------+-----+------------------+------------------+\n",
            "|2000-01-01|2000|      1|   01| 9.495232388801012|   19.016168503192|\n",
            "|2000-02-01|2000|      1|   02| 10.70952411634649|21.404467063442723|\n",
            "|2000-03-01|2000|      1|   03|11.118293927071951| 21.25035527677261|\n",
            "|2000-04-01|2000|      2|   04| 9.346911680164684|19.982136698759238|\n",
            "|2000-05-01|2000|      2|   05| 9.663303382177363|19.925236690504494|\n",
            "+----------+----+-------+-----+------------------+------------------+\n",
            "only showing top 5 rows\n"
          ]
        }
      ],
      "source": [
        "# Legger til row index til DataFrame før join med dates_df\n",
        "data_df = data_df.withColumn(\"row_index\", expr(\"monotonically_increasing_id()\"))\n",
        "\n",
        "# Joiner de to datasettene\n",
        "df = (\n",
        "    dates_df.withColumn(\"row_index\", expr(\"monotonically_increasing_id()\"))\n",
        "    .join(data_df, \"row_index\")\n",
        "    .drop(\"row_index\")\n",
        ")\n",
        "\n",
        "# Legger til år, kvartal og mnd\n",
        "df = df.withColumn(\"Year\", date_format(df.Date, \"yyyy\"))\n",
        "df = df.withColumn(\"Quarter\", expr(\"quarter(Date)\"))\n",
        "df = df.withColumn(\"Month\", date_format(df.Date, \"MM\"))\n",
        "\n",
        "df.select(\"Date\", \"Year\", \"Quarter\", \"Month\", \"serie00\", \"serie01\").show(5)"
      ],
      "id": "gen-df"
    },
    {
      "cell_type": "markdown",
      "metadata": {},
      "source": [
        "Og med det har vi noe data vi kan jobbe med i resten av notebooken.\n",
        "\n",
        "## Skrive til Parquet\n",
        "\n",
        "PySpark tilbyr mange opsjoner ved skriving til parquet-filer som vi\n",
        "kanskje ikke er vant til å forholde oss til med enklere rammeverk som\n",
        "Pandas. Den enkleste måten å skrive ut en fil er som følger:\n",
        "\n",
        "``` python\n",
        "df.write.parquet(\n",
        "    \"gs://ssb-dapla-felles-data-produkt-prod/temp/timeseries.parquet\"\n",
        ")\n",
        "```\n",
        "\n",
        "Dette vil fungere hvis filen ikke finnes fra før. Hvis den finnes fra\n",
        "før så vil den feile. Grunnen er at vi ikke har spesifisert hva vi\n",
        "ønsker at den skal gjøre. Vi kan velge mellom `overwrite`, `append`,\n",
        "`ignore` eller `errorifexists`. Sistnevnte er også default-oppførsel\n",
        "hvis du ikke ber den gjøre noe annet.\n",
        "\n",
        "Under bruker vi opsjonen `overwrite`, det vil si at den skriver over en\n",
        "evt eksisterende fil med samme navn."
      ],
      "id": "560daafb-d57c-458c-9e14-edd93b590324"
    },
    {
      "cell_type": "code",
      "execution_count": 6,
      "metadata": {
        "tags": []
      },
      "outputs": [],
      "source": [
        "df.write.mode(\"overwrite\").parquet(\n",
        "    \"gs://ssb-dapla-felles-data-produkt-prod/temp/timeseries.parquet\"\n",
        ")"
      ],
      "id": "b51d6660-e506-42ae-9968-852ec4bc9399"
    },
    {
      "cell_type": "markdown",
      "metadata": {},
      "source": [
        "Vi kan inspisere hva som ble skrevet ved å liste ut innholder i bøtta."
      ],
      "id": "91e63473-47b6-4b8b-af80-9d7bf45b474b"
    },
    {
      "cell_type": "code",
      "execution_count": 7,
      "metadata": {
        "tags": []
      },
      "outputs": [
        {
          "output_type": "display_data",
          "metadata": {},
          "data": {
            "text/plain": [
              "['ssb-dapla-felles-data-delt-prod/temp/',\n",
              " 'ssb-dapla-felles-data-delt-prod/temp/timeseries.parquet',\n",
              " 'ssb-dapla-felles-data-delt-prod/temp/timeseries.parquet/',\n",
              " 'ssb-dapla-felles-data-delt-prod/temp/timeseries.parquet/_SUCCESS',\n",
              " 'ssb-dapla-felles-data-delt-prod/temp/timeseries.parquet/part-00000-b32e7299-0590-4b31-bcc2-dc3d58725529-c000.snappy.parquet',\n",
              " 'ssb-dapla-felles-data-delt-prod/temp/timeseries.parquet/part-00001-b32e7299-0590-4b31-bcc2-dc3d58725529-c000.snappy.parquet']"
            ]
          }
        }
      ],
      "source": [
        "from dapla import FileClient\n",
        "\n",
        "fs = FileClient.get_gcs_file_system()\n",
        "\n",
        "fs.glob(\"gs://ssb-dapla-felles-data-produkt-prod/temp/**\")"
      ],
      "id": "ebc60a1f-d443-409d-ac7c-4e6e8460ef9d"
    },
    {
      "cell_type": "markdown",
      "metadata": {},
      "source": [
        "Hvis denne parquet-filen hadde vært partisjonert etter en kolonne, så\n",
        "ville det vært egne undermapper med navnestruktur `column_name=value`\n",
        "som indikerte hva filen er partisjonert på. Siden vi her bruker en\n",
        "maskin og har et lite datasett, valgte Spark å ikke partisjonere.\n",
        "\n",
        "## Lese inn Parquet\n",
        "\n",
        "Apache Spark kan lese inn flere parquet-filer samtidig. Syntaxen er like\n",
        "enkel som den for å skrive ut."
      ],
      "id": "e7b26820-56c5-4ed2-b3a4-2e6abe7d2154"
    },
    {
      "cell_type": "code",
      "execution_count": 8,
      "metadata": {
        "tags": []
      },
      "outputs": [
        {
          "output_type": "stream",
          "name": "stdout",
          "text": [
            "+----------+----+-------+-----+-----------------+-----------------+\n",
            "|      Date|Year|Quarter|Month|          serie66|          serie55|\n",
            "+----------+----+-------+-----+-----------------+-----------------+\n",
            "|2000-01-01|2000|      1|   01|670.2679830025959|562.4312808525777|\n",
            "|2000-02-01|2000|      1|   02|675.4233411662802|562.5168447360121|\n",
            "|2000-03-01|2000|      1|   03|687.3412458214908|568.6203957584232|\n",
            "|2000-04-01|2000|      2|   04|673.1128047244955|557.4633871253379|\n",
            "|2000-05-01|2000|      2|   05| 667.513406101114|561.7766450346327|\n",
            "+----------+----+-------+-----+-----------------+-----------------+\n",
            "only showing top 5 rows\n"
          ]
        }
      ],
      "source": [
        "df_ts = spark.read.parquet(\n",
        "    \"gs://ssb-dapla-felles-data-produkt-prod/temp/timeseries.parquet\"\n",
        ")\n",
        "df_ts.select(\"Date\", \"Year\", \"Quarter\", \"Month\", \"serie66\", \"serie55\").show(5)"
      ],
      "id": "a91e4e9f-b1fd-4d13-b90f-c1431e366eda"
    },
    {
      "cell_type": "markdown",
      "metadata": {},
      "source": [
        "## PySpark og SQL\n",
        "\n",
        "Du kan også skrive SQL med Spark. For å skrive SQL må vi først lage et\n",
        "`temporary view`. Under kaller vi viewt for **tidsserie**."
      ],
      "id": "1a800ee0-b469-4773-b5f2-3e469ecc65c0"
    },
    {
      "cell_type": "code",
      "execution_count": 9,
      "metadata": {
        "tags": []
      },
      "outputs": [],
      "source": [
        "df.createOrReplaceTempView(\"tidsserie\")"
      ],
      "id": "18d6a9fd-6daa-4d08-98f7-8be1efe6b4b3"
    },
    {
      "cell_type": "markdown",
      "metadata": {},
      "source": [
        "Vi kan deretter skrive en SQL-statement som vi ønsker å kjøre på viewet:"
      ],
      "id": "bbbcf50e-6f41-4554-bdab-e68d4d5d0d72"
    },
    {
      "cell_type": "code",
      "execution_count": 10,
      "metadata": {
        "tags": []
      },
      "outputs": [],
      "source": [
        "query = \"SELECT * FROM tidsserie WHERE Year = 2010\""
      ],
      "id": "f2c00323-1ce4-4ca6-911a-7197cb35e77a"
    },
    {
      "cell_type": "markdown",
      "metadata": {},
      "source": [
        "Deretter kan vi bruke det til å filtrere datasettet:"
      ],
      "id": "50deccad-8dce-4c93-b505-7cc2c248ed52"
    },
    {
      "cell_type": "code",
      "execution_count": 11,
      "metadata": {
        "tags": []
      },
      "outputs": [
        {
          "output_type": "stream",
          "name": "stdout",
          "text": [
            "+----------+----+-------+-----+------------------+------------------+\n",
            "|      Date|Year|Quarter|Month|           serie00|           serie01|\n",
            "+----------+----+-------+-----+------------------+------------------+\n",
            "|2010-01-01|2010|      1|   01| 11.26910423907778|21.730128215168268|\n",
            "|2010-02-01|2010|      1|   02| 8.722783282690738| 17.46851086792347|\n",
            "|2010-03-01|2010|      1|   03|10.376873608348605|20.109386343182802|\n",
            "|2010-04-01|2010|      2|   04|11.459959305590926|21.995141825523866|\n",
            "|2010-05-01|2010|      2|   05|10.441456792180572| 21.25096473981906|\n",
            "+----------+----+-------+-----+------------------+------------------+\n",
            "only showing top 5 rows\n"
          ]
        }
      ],
      "source": [
        "result_df = spark.sql(query)\n",
        "result_df.select(\"Date\", \"Year\", \"Quarter\", \"Month\", \"serie00\", \"serie01\").show(5)"
      ],
      "id": "8ffe42a4-9c6b-4186-8623-3026f82e85ed"
    },
    {
      "cell_type": "markdown",
      "metadata": {},
      "source": [
        "## Aggregering\n",
        "\n",
        "vi kan aggregere opp enten med PySpark-syntax eller SQL-syntax. Under\n",
        "viser vi begge:"
      ],
      "id": "f681f7c7-9df4-4f7e-aeb5-561193b7408f"
    },
    {
      "cell_type": "code",
      "execution_count": 12,
      "metadata": {
        "tags": []
      },
      "outputs": [
        {
          "output_type": "stream",
          "name": "stdout",
          "text": [
            "+-------+------------------+------------------+------------------+\n",
            "|Quarter|               Sum|           Average|           Maximum|\n",
            "+-------+------------------+------------------+------------------+\n",
            "|      1|363.95869885234185|10.109963857009497|11.829453550532005|\n",
            "|      3|365.68324879453405| 10.15786802207039|12.233378837422391|\n",
            "|      4| 342.2334082209804|10.065688477087658|12.210138970053695|\n",
            "|      2|  361.991445506568|10.055317930738001|12.276030776082463|\n",
            "+-------+------------------+------------------+------------------+\n"
          ]
        }
      ],
      "source": [
        "from pyspark.sql import functions as F\n",
        "\n",
        "# Assuming df_ts is your DataFrame\n",
        "aggregated_df = df_ts.groupBy(\"Quarter\").agg(F.sum(\"serie00\").alias(\"Sum\"),\n",
        "                                             F.avg(\"serie00\").alias(\"Average\"),\n",
        "                                             F.max(\"serie00\").alias(\"Maximum\"))\n",
        "\n",
        "# Show the result\n",
        "aggregated_df.show()\n"
      ],
      "id": "7c35ea7d-b94d-4acd-8fe7-d73c65398e73"
    },
    {
      "cell_type": "markdown",
      "metadata": {},
      "source": [
        "La oss gjøre det samme med SQL, men grupperer etter to variabler og\n",
        "sorterer output etterpå."
      ],
      "id": "6a366ad2-3c91-4a28-b47f-ffaad15480d5"
    },
    {
      "cell_type": "code",
      "execution_count": 13,
      "metadata": {
        "tags": []
      },
      "outputs": [
        {
          "output_type": "stream",
          "name": "stdout",
          "text": [
            "+----+-------+------------------+------------------+------------------+\n",
            "|Year|Quarter|               Sum|           Average|           Maximum|\n",
            "+----+-------+------------------+------------------+------------------+\n",
            "|2000|      1|31.323050432219453|10.441016810739818|11.118293927071951|\n",
            "|2000|      2|28.911192473027377| 9.637064157675793| 9.900977410685329|\n",
            "|2000|      3|33.670797229797415|11.223599076599138|12.233378837422391|\n",
            "|2000|      4|28.094793356286914| 9.364931118762305| 10.32000478359274|\n",
            "|2001|      1|31.636678535169537|10.545559511723178|11.367822302191831|\n",
            "|2001|      2|29.629770128521507| 9.876590042840503|11.135215930381191|\n",
            "|2001|      3| 30.75408440118315| 10.25136146706105|10.723803326978505|\n",
            "|2001|      4|30.361048932627902|  10.1203496442093|10.368365984482093|\n",
            "|2002|      1|31.184163218551227|10.394721072850409|10.550579652234951|\n",
            "|2002|      2|29.128978392451202|   9.7096594641504|10.186365745367246|\n",
            "+----+-------+------------------+------------------+------------------+\n",
            "only showing top 10 rows\n"
          ]
        }
      ],
      "source": [
        "# Assuming df_ts is your DataFrame\n",
        "df_ts.createOrReplaceTempView(\"temp_table\")\n",
        "\n",
        "# Now you can run a SQL query\n",
        "query = \"\"\"\n",
        "    SELECT\n",
        "        Year,\n",
        "        Quarter,\n",
        "        SUM(serie00) AS Sum,\n",
        "        AVG(serie00) AS Average,\n",
        "        MAX(serie00) AS Maximum\n",
        "    FROM \n",
        "        temp_table\n",
        "    GROUP BY \n",
        "        Year, Quarter\n",
        "    ORDER BY\n",
        "        YEAR, QUARTER\n",
        "\"\"\"\n",
        "\n",
        "aggregated_df_sql = spark.sql(query)\n",
        "\n",
        "# Show the result\n",
        "aggregated_df_sql.show(10)\n"
      ],
      "id": "d84f9e97-9b97-442b-be1e-fd5a53597b34"
    }
  ],
  "nbformat": 4,
  "nbformat_minor": 5,
  "metadata": {
    "kernelspec": {
      "name": "pyspark_local",
      "display_name": "Pyspark (local)",
      "language": "python"
    },
    "language_info": {
      "name": "python",
      "codemirror_mode": {
        "name": "ipython",
        "version": "3"
      },
      "file_extension": ".py",
      "mimetype": "text/x-python",
      "nbconvert_exporter": "python",
      "pygments_lexer": "ipython3",
      "version": "3.10.9"
    }
  }
}