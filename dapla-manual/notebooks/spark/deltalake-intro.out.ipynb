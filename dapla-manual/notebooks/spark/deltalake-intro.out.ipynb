{
  "cells": [
    {
      "cell_type": "markdown",
      "metadata": {},
      "source": [
        "# Introduksjon til Delta Lake\n",
        "\n",
        "Delta Lake er et databaselag som kan *legges over* parquet-filer i\n",
        "bøtter. Det kan gi oss mye av den funksjonaliteten vi har vært vant til\n",
        "i relasjonelle databaser og datavarehus. I denne notebooken vises\n",
        "hvordan man kan ta det i bruk på Dapla.\n",
        "\n",
        "## Oppsett\n",
        "\n",
        "Hvis du logger deg inn på <https://jupyter.dapla.ssb.no/> kan du ta i\n",
        "bruk Delta Lake via Spark. Men for å gjøre det må du installere\n",
        "[delta-spark](https://pypi.org/project/delta-spark/). For å installere\n",
        "pakken må du jobbe i et\n",
        "[ssb-project](https://manual.dapla.ssb.no/jobbe-med-kode.html#ssb-project).\n",
        "I tillegg må du installere `delta-spark`-versjon som er kompatibel med\n",
        "Spark-versjonen som er installert på Dapla. Gjør derfor følgende:\n",
        "\n",
        "1.  [Opprett et\n",
        "    ssb-project](https://manual.dapla.ssb.no/jobbe-med-kode.html#ssb-project)\n",
        "    med kommandoen:  \n",
        "    `ssb-project create test-delta-lake`\n",
        "2.  I terminalen skriver du følgende for å sjekke Spark-versjonen som er\n",
        "    installert:  \n",
        "    `spark-shell --version`\n",
        "3.  [Sjekk hvilken\n",
        "    **delta-spark**-versjon](https://docs.delta.io/latest/releases.html)\n",
        "    som er kompatibel med din Spark-versjon og installer den med\n",
        "    kommandoen[1]:  \n",
        "    `poetry add delta-spark@2.3`\n",
        "4.  Åpne en ny notebook og velg kernel `test-delta-lake`.\n",
        "\n",
        "Nå har du satt opp et virtuelt miljø med en PySpark-kernel som kjører en\n",
        "maskin (såkalt Pyspark local kernel), der du har installert delta-spark.\n",
        "Vi kan nå importere de bibliotekene vi trenger og sette igang en\n",
        "Spark-session.\n",
        "\n",
        "[1] I eksempelet er det Spark V3.3.1 som er installert og jeg\n",
        "installerer derfor delta-spark v2.3"
      ],
      "id": "dbc4691a-c26c-48b3-971d-e30976b5b4f3"
    },
    {
      "cell_type": "code",
      "execution_count": 1,
      "metadata": {
        "tags": []
      },
      "outputs": [],
      "source": [
        "# Importerer biblioteker\n",
        "import pyspark\n",
        "from delta import *"
      ],
      "id": "7398549f-f7cf-4298-8254-ece4a08fa5d9"
    },
    {
      "cell_type": "markdown",
      "metadata": {},
      "source": [
        "Deretter initialiserer jeg en Spark-session. `%%capture_output` er med\n",
        "for å forhindre at det ikke blir printet ut sensitiv informasjon i en\n",
        "notebook som skal inn i Dapla-manualen."
      ],
      "id": "40ccfbde-1d58-40e6-bdb6-9c96eb872f54"
    },
    {
      "cell_type": "code",
      "execution_count": 2,
      "metadata": {
        "tags": []
      },
      "outputs": [],
      "source": [
        "%%capture captured_output\n",
        "%run /usr/local/share/jupyter/kernels/pyspark_local/init.py"
      ],
      "id": "e037f70d-e6f8-4fd3-8a18-8b358ca9613f"
    },
    {
      "cell_type": "markdown",
      "metadata": {},
      "source": [
        "## Genererer noe data"
      ],
      "id": "412b194b-eee1-4dac-ad6f-9e2d01b3cbc8"
    },
    {
      "cell_type": "code",
      "execution_count": 3,
      "metadata": {
        "tags": []
      },
      "outputs": [
        {
          "output_type": "stream",
          "name": "stdout",
          "text": [
            "+---+\n",
            "| id|\n",
            "+---+\n",
            "| 10|\n",
            "| 11|\n",
            "| 12|\n",
            "| 13|\n",
            "| 14|\n",
            "+---+\n"
          ]
        }
      ],
      "source": [
        "# Genererer noe data med Spark\n",
        "data = spark.range(10, 15)\n",
        "data.show()"
      ],
      "id": "5c5dd7d8-b1de-477b-8521-637698cc0f48"
    },
    {
      "cell_type": "markdown",
      "metadata": {},
      "source": [
        "## Skriver ut en Delta Lake Table\n",
        "\n",
        "La oss skrive ut Spark DataFrame som en Delta Lake Table og bli kjent\n",
        "med strukturen i objektet:"
      ],
      "id": "e30f8c0d-4b12-4620-ba55-f13b40517477"
    },
    {
      "cell_type": "code",
      "execution_count": 4,
      "metadata": {
        "tags": []
      },
      "outputs": [
        {
          "output_type": "stream",
          "name": "stdout",
          "text": [
            "CPU times: user 3.38 ms, sys: 1.7 ms, total: 5.08 ms\n",
            "Wall time: 5.59 s"
          ]
        }
      ],
      "source": [
        "%%time\n",
        "data.write.format(\"delta\").mode(\"overwrite\").save(\n",
        "    \"gs://ssb-dapla-felles-data-produkt-prod/temp4\"\n",
        ")"
      ],
      "id": "b5e9dc42-599f-414b-ab95-c7a6e94780c3"
    },
    {
      "cell_type": "markdown",
      "metadata": {},
      "source": [
        "Vi kan deretter printe ut hva som ble opprettet når vi skrev ut en Delta\n",
        "Lake Table:"
      ],
      "id": "0a775640-ed34-44c8-a67e-f7bab3a2f50a"
    },
    {
      "cell_type": "code",
      "execution_count": 5,
      "metadata": {
        "tags": []
      },
      "outputs": [
        {
          "output_type": "display_data",
          "metadata": {},
          "data": {
            "text/plain": [
              "['ssb-dapla-felles-data-delt-prod/temp4/_delta_log',\n",
              " 'ssb-dapla-felles-data-delt-prod/temp4/_delta_log/',\n",
              " 'ssb-dapla-felles-data-delt-prod/temp4/_delta_log/00000000000000000000.json',\n",
              " 'ssb-dapla-felles-data-delt-prod/temp4/part-00000-9b3b81a9-2771-4fb4-9f0f-659fd160d643-c000.snappy.parquet',\n",
              " 'ssb-dapla-felles-data-delt-prod/temp4/part-00001-0f2f8ba5-3161-41e8-b5d1-2084128a5bed-c000.snappy.parquet']"
            ]
          }
        }
      ],
      "source": [
        "from dapla import FileClient\n",
        "\n",
        "fs = FileClient.get_gcs_file_system()\n",
        "\n",
        "fs.glob(\"gs://ssb-dapla-felles-data-produkt-prod/temp4/**\")"
      ],
      "id": "cb0a2616-f5cb-4648-ae6a-f11b6d0e6093"
    },
    {
      "cell_type": "markdown",
      "metadata": {},
      "source": [
        "### Delta Lake Tabellstruktur\n",
        "\n",
        "Mappenstrukturen du ser over er typisk for en Delta Lake-tabell. La oss\n",
        "bryte ned komponentene:\n",
        "\n",
        "1.  **`_delta_log/`**:\n",
        "    -   Dette er transaksjonsloggmappen for Delta Lake-tabellen. Den\n",
        "        inneholder en serie med JSON-filer som registrerer alle\n",
        "        transaksjoner gjort på tabellen.\n",
        "    -   Transaksjonsloggen er avgjørende for Delta Lakes\n",
        "        ACID-transaksjonsegenskaper, som muliggjør funksjoner som\n",
        "        atomiske forpliktelser, tilbakerullinger og\n",
        "        tid-reise-forespørsler.\n",
        "2.  **`_delta_log/00000000000000000000.json`**:\n",
        "    -   Dette er en JSON-fil innenfor transaksjonsloggkatalogen. Hver\n",
        "        JSON-fil i denne mappen tilsvarer en transaksjon (eller en batch\n",
        "        av transaksjoner) gjort på tabellen.\n",
        "    -   Filnavnet er null-fylt og representerer transaksjonsversjonen. I\n",
        "        dette tilfellet representerer `00000000000000000000.json` den\n",
        "        aller første versjonen (versjon 0) av tabellen. Etter hvert som\n",
        "        flere transaksjoner blir gjort, vil nye filer bli lagt til med\n",
        "        økende versjonsnumre.\n",
        "3.  **`part-00000-450715bd-6b0c-4827-bb8a-b0265505ca72-c000.snappy.parquet`**\n",
        "    og\n",
        "    **`part-00001-977ed55f-5ce5-469f-8a1d-9eafb143c215-c000.snappy.parquet`**:\n",
        "    -   Dette er de faktiske datafilene til Delta Lake-tabellen, lagret\n",
        "        i Parquet-format.\n",
        "    -   `.snappy.parquet`-utvidelsen indikerer at dataene er komprimert\n",
        "        ved hjelp av Snappy-komprimeringsalgoritmen.\n",
        "    -   Filnavnene er typiske for Sparks navngivningskonvensjon for\n",
        "        datadeler. Prefiksene `part-00000` og `part-00001` indikerer\n",
        "        partisjonsnumre. De lange UUID-lignende strengene er unike\n",
        "        identifikatorer for datafilene. Suffikset `c000` indikerer\n",
        "        Spark-oppgaven som skrev filen.\n",
        "\n",
        "Mappen representerer en Delta Lake-tabell med data lagret i\n",
        "Parquet-format og en transaksjonslogg som sporer endringer i tabellen.\n",
        "Tilstedeværelsen av `_delta_log`-mappen og innholdet er det som skiller\n",
        "en Delta Lake-tabell fra et vanlig Parquet-datasett.\n",
        "\n",
        "## Lese inn tabell"
      ],
      "id": "92b94ce7-ca61-40f2-bbd3-7f1a11429041"
    },
    {
      "cell_type": "code",
      "execution_count": 6,
      "metadata": {
        "tags": []
      },
      "outputs": [
        {
          "output_type": "stream",
          "name": "stdout",
          "text": [
            "+---+\n",
            "| id|\n",
            "+---+\n",
            "| 12|\n",
            "| 13|\n",
            "| 14|\n",
            "| 10|\n",
            "| 11|\n",
            "+---+\n"
          ]
        }
      ],
      "source": [
        "deltaTable = DeltaTable.forPath(spark, \"gs://ssb-dapla-felles-data-produkt-prod/temp4\")\n",
        "deltaTable.toDF().show()"
      ],
      "id": "bc78bc00-1ef9-49d9-b8a0-87b3a7ec74ab"
    },
    {
      "cell_type": "markdown",
      "metadata": {},
      "source": [
        "## Modifisere datasettet\n",
        "\n",
        "La oss modifisere datasettet ved å bytte ut verdien `13` med `15` i\n",
        "`id`-kolonnen:"
      ],
      "id": "4d3af8bc-eb1f-4e66-96e4-f3d5037b4dff"
    },
    {
      "cell_type": "code",
      "execution_count": 7,
      "metadata": {
        "tags": []
      },
      "outputs": [],
      "source": [
        "from pyspark.sql.functions import col, lit\n",
        "\n",
        "# Update the cell with value 13 to 15\n",
        "deltaTable.update(condition=(col(\"id\") == 13), set={\"id\": lit(15)})"
      ],
      "id": "42699f66-ed3a-4fbb-ab54-a5f6874b0a54"
    },
    {
      "cell_type": "markdown",
      "metadata": {},
      "source": [
        "Et viktig poeng å få med seg her er at vi nå oppdaterte Delta Lake Table\n",
        "objektet både i minnet og på disk. La oss bevise det ved å lese inn fra\n",
        "disk:"
      ],
      "id": "6bd9f8dc-92fd-4853-8104-446626382144"
    },
    {
      "cell_type": "code",
      "execution_count": 8,
      "metadata": {
        "tags": []
      },
      "outputs": [
        {
          "output_type": "stream",
          "name": "stdout",
          "text": [
            "+---+\n",
            "| id|\n",
            "+---+\n",
            "| 12|\n",
            "| 15|\n",
            "| 14|\n",
            "| 10|\n",
            "| 11|\n",
            "+---+\n"
          ]
        }
      ],
      "source": [
        "deltaTable2 = DeltaTable.forPath(spark, \"gs://ssb-dapla-felles-data-produkt-prod/temp4\")\n",
        "deltaTable2.toDF().show()"
      ],
      "id": "2b10a295-843b-41e8-b407-f8fe1daf275b"
    },
    {
      "cell_type": "markdown",
      "metadata": {},
      "source": [
        "Og deretter ved å printe ut det opprinnelige objektet vi leste inn:"
      ],
      "id": "c90d43fb-09bf-462b-9e16-06b906cd9f3e"
    },
    {
      "cell_type": "code",
      "execution_count": 9,
      "metadata": {
        "tags": []
      },
      "outputs": [
        {
          "output_type": "stream",
          "name": "stdout",
          "text": [
            "+---+\n",
            "| id|\n",
            "+---+\n",
            "| 12|\n",
            "| 15|\n",
            "| 14|\n",
            "| 10|\n",
            "| 11|\n",
            "+---+\n"
          ]
        }
      ],
      "source": [
        "deltaTable.toDF().show()"
      ],
      "id": "4258ccf3-6701-496c-baea-1bbff4274e5e"
    },
    {
      "cell_type": "markdown",
      "metadata": {},
      "source": [
        "## Append data\n",
        "\n",
        "La oss legge til verdiene `20` og `21` til datasettet. Først lager vi en\n",
        "Spark dataframe:"
      ],
      "id": "f1ac6d1f-6717-4794-bf4a-b30dfe28a87f"
    },
    {
      "cell_type": "code",
      "execution_count": 10,
      "metadata": {
        "tags": []
      },
      "outputs": [
        {
          "output_type": "stream",
          "name": "stdout",
          "text": [
            "+---+\n",
            "| id|\n",
            "+---+\n",
            "| 20|\n",
            "| 21|\n",
            "+---+\n"
          ]
        }
      ],
      "source": [
        "new_data = [(20,), (21,)]\n",
        "new_df = spark.createDataFrame(new_data, [\"id\"])\n",
        "new_df.show()"
      ],
      "id": "4c64e127-54ed-4a2b-8d35-a052faf985d0"
    },
    {
      "cell_type": "markdown",
      "metadata": {},
      "source": [
        "Deretter kan vi appendere det til vår opprinnelige dataframe:"
      ],
      "id": "defbe1ed-f65b-4017-b84b-ff1a6cb81814"
    },
    {
      "cell_type": "code",
      "execution_count": 11,
      "metadata": {
        "tags": []
      },
      "outputs": [],
      "source": [
        "new_df.write.format(\"delta\").mode(\"append\").save(\n",
        "    \"gs://ssb-dapla-felles-data-produkt-prod/temp4\"\n",
        ")"
      ],
      "id": "d3e6b418-3cb7-4360-bbd0-e09d7f82faf0"
    },
    {
      "cell_type": "code",
      "execution_count": 12,
      "metadata": {
        "tags": []
      },
      "outputs": [
        {
          "output_type": "stream",
          "name": "stdout",
          "text": [
            "+---+\n",
            "| id|\n",
            "+---+\n",
            "| 12|\n",
            "| 15|\n",
            "| 14|\n",
            "| 10|\n",
            "| 11|\n",
            "| 21|\n",
            "| 20|\n",
            "+---+\n"
          ]
        }
      ],
      "source": [
        "deltaTable.toDF().show()"
      ],
      "id": "a1182c79-36a5-4d4d-beb0-a72b3d377caf"
    },
    {
      "cell_type": "markdown",
      "metadata": {},
      "source": [
        "## Historien og metadata til filen\n",
        "\n",
        "Nå som vi har gjort noen endringer kan vi se på historien til filen:"
      ],
      "id": "5b330c52-00b2-4f4d-b52e-86fc40c68061"
    },
    {
      "cell_type": "code",
      "execution_count": 13,
      "metadata": {
        "tags": []
      },
      "outputs": [
        {
          "output_type": "display_data",
          "metadata": {},
          "data": {
            "text/plain": [
              "['ssb-dapla-felles-data-delt-prod/temp4/_delta_log',\n",
              " 'ssb-dapla-felles-data-delt-prod/temp4/_delta_log/',\n",
              " 'ssb-dapla-felles-data-delt-prod/temp4/_delta_log/00000000000000000000.json',\n",
              " 'ssb-dapla-felles-data-delt-prod/temp4/_delta_log/00000000000000000001.json',\n",
              " 'ssb-dapla-felles-data-delt-prod/temp4/_delta_log/00000000000000000002.json',\n",
              " 'ssb-dapla-felles-data-delt-prod/temp4/part-00000-73e5052f-1b82-48da-ab37-2cbc01bb46c1-c000.snappy.parquet',\n",
              " 'ssb-dapla-felles-data-delt-prod/temp4/part-00000-9b3b81a9-2771-4fb4-9f0f-659fd160d643-c000.snappy.parquet',\n",
              " 'ssb-dapla-felles-data-delt-prod/temp4/part-00000-d04d0ca2-8e8b-42e9-a8a3-0fed9a0e4e41-c000.snappy.parquet',\n",
              " 'ssb-dapla-felles-data-delt-prod/temp4/part-00001-0f2f8ba5-3161-41e8-b5d1-2084128a5bed-c000.snappy.parquet',\n",
              " 'ssb-dapla-felles-data-delt-prod/temp4/part-00001-30d707e4-dd9a-4bfd-a4c7-7fbb1933e9ae-c000.snappy.parquet']"
            ]
          }
        }
      ],
      "source": [
        "# Lister ut filene i bøtta\n",
        "fs = FileClient.get_gcs_file_system()\n",
        "fs.glob(\"gs://ssb-dapla-felles-data-produkt-prod/temp4/**\")"
      ],
      "id": "f805cfdb-9081-4d6a-8840-48898aaa3956"
    },
    {
      "cell_type": "markdown",
      "metadata": {},
      "source": [
        "Vi ser av transaksjonsloggen i `_delta_log`-mappen at det nå har vært 3\n",
        "transaksjoner på datasettet. vi ser også av navnene på parquet-filene,\n",
        "`part-00000` og `part-00001`, at det finnes to versjoner av filen. Hvis\n",
        "vi ønsker å bli bedre kjent med hva slags informasjon som blir lagret\n",
        "fra transaksjonene, så kan vi printe ut den siste transaksjonen som\n",
        "heter `00000000000000000002.json`:"
      ],
      "id": "c25068c8-1a04-4a51-b0c2-253801462e1a"
    },
    {
      "cell_type": "code",
      "execution_count": 14,
      "metadata": {
        "tags": []
      },
      "outputs": [
        {
          "output_type": "stream",
          "name": "stdout",
          "text": [
            "{\n",
            "    \"commitInfo\": {\n",
            "        \"timestamp\": 1696942544879,\n",
            "        \"operation\": \"WRITE\",\n",
            "        \"operationParameters\": {\n",
            "            \"mode\": \"Append\",\n",
            "            \"partitionBy\": \"[]\"\n",
            "        },\n",
            "        \"readVersion\": 1,\n",
            "        \"isolationLevel\": \"Serializable\",\n",
            "        \"isBlindAppend\": true,\n",
            "        \"operationMetrics\": {\n",
            "            \"numFiles\": \"2\",\n",
            "            \"numOutputRows\": \"2\",\n",
            "            \"numOutputBytes\": \"956\"\n",
            "        },\n",
            "        \"engineInfo\": \"Apache-Spark/3.3.1 Delta-Lake/2.3.0\",\n",
            "        \"txnId\": \"a3dcd582-8362-4fc2-a8ce-57613d2eb2b8\"\n",
            "    }\n",
            "}\n",
            "--------------------------------------------------\n",
            "{\n",
            "    \"add\": {\n",
            "        \"path\": \"part-00000-73e5052f-1b82-48da-ab37-2cbc01bb46c1-c000.snappy.parquet\",\n",
            "        \"partitionValues\": {},\n",
            "        \"size\": 478,\n",
            "        \"modificationTime\": 1696942544755,\n",
            "        \"dataChange\": true,\n",
            "        \"stats\": \"{\\\"numRecords\\\":1,\\\"minValues\\\":{\\\"id\\\":20},\\\"maxValues\\\":{\\\"id\\\":20},\\\"nullCount\\\":{\\\"id\\\":0}}\"\n",
            "    }\n",
            "}\n",
            "--------------------------------------------------\n",
            "{\n",
            "    \"add\": {\n",
            "        \"path\": \"part-00001-30d707e4-dd9a-4bfd-a4c7-7fbb1933e9ae-c000.snappy.parquet\",\n",
            "        \"partitionValues\": {},\n",
            "        \"size\": 478,\n",
            "        \"modificationTime\": 1696942544833,\n",
            "        \"dataChange\": true,\n",
            "        \"stats\": \"{\\\"numRecords\\\":1,\\\"minValues\\\":{\\\"id\\\":21},\\\"maxValues\\\":{\\\"id\\\":21},\\\"nullCount\\\":{\\\"id\\\":0}}\"\n",
            "    }\n",
            "}\n",
            "--------------------------------------------------"
          ]
        }
      ],
      "source": [
        "import json\n",
        "\n",
        "from dapla import FileClient\n",
        "\n",
        "# Kobler oss på bøttene\n",
        "fs = FileClient.get_gcs_file_system()\n",
        "\n",
        "# Filsti\n",
        "path = \"gs://ssb-dapla-felles-data-produkt-prod/temp4/_delta_log/00000000000000000002.json\"\n",
        "\n",
        "with fs.open(path, \"r\") as f:\n",
        "    for line in f:\n",
        "        data = json.loads(line)\n",
        "        pretty_content = json.dumps(data, indent=4)\n",
        "        print(pretty_content)\n",
        "        print(\"-\" * 50)  # Print separator for clarity"
      ],
      "id": "df9e687c-b0f3-4c5b-9327-6619196e5348"
    },
    {
      "cell_type": "markdown",
      "metadata": {},
      "source": [
        "Her ser vi at vi får masse informasjon om endringen, både metadata om\n",
        "transaksjonen i `commitInfo`, og informasjon om nye data-filer i\n",
        "`add`-delen. Vi ser at det er en veldig rik beskrivelse av endringer,\n",
        "men det kan være vanskeig å lese innholdet direkte. La oss heller bruke\n",
        "`history()`-funksjonen som kommer med `delta`:"
      ],
      "id": "dc74a0cf-ef70-441e-a007-d50aa4848071"
    },
    {
      "cell_type": "code",
      "execution_count": 15,
      "metadata": {
        "tags": []
      },
      "outputs": [
        {
          "output_type": "stream",
          "name": "stdout",
          "text": [
            "+-------+--------------------+------+--------+---------+--------------------+----+--------+---------+-----------+--------------+-------------+--------------------+------------+--------------------+\n",
            "|version|           timestamp|userId|userName|operation| operationParameters| job|notebook|clusterId|readVersion|isolationLevel|isBlindAppend|    operationMetrics|userMetadata|          engineInfo|\n",
            "+-------+--------------------+------+--------+---------+--------------------+----+--------+---------+-----------+--------------+-------------+--------------------+------------+--------------------+\n",
            "|      2|2023-10-10 12:55:...|  null|    null|    WRITE|{mode -> Append, ...|null|    null|     null|          1|  Serializable|         true|{numFiles -> 2, n...|        null|Apache-Spark/3.3....|\n",
            "|      1|2023-10-10 12:55:...|  null|    null|   UPDATE|{predicate -> (id...|null|    null|     null|          0|  Serializable|        false|{numRemovedFiles ...|        null|Apache-Spark/3.3....|\n",
            "|      0|2023-10-10 12:55:...|  null|    null|    WRITE|{mode -> Overwrit...|null|    null|     null|       null|  Serializable|        false|{numFiles -> 2, n...|        null|Apache-Spark/3.3....|\n",
            "+-------+--------------------+------+--------+---------+--------------------+----+--------+---------+-----------+--------------+-------------+--------------------+------------+--------------------+\n"
          ]
        }
      ],
      "source": [
        "history = deltaTable.history()\n",
        "history.show()"
      ],
      "id": "71ff024b-ebee-409e-943f-7625b7d78a8a"
    },
    {
      "cell_type": "markdown",
      "metadata": {},
      "source": [
        "Siden det blit trangt i tabellen over så kan vi velge hvilke variabler\n",
        "vi ønsker å se på:"
      ],
      "id": "74c193a3-9249-46dd-88f5-78c56774f757"
    },
    {
      "cell_type": "code",
      "execution_count": 16,
      "metadata": {
        "tags": []
      },
      "outputs": [
        {
          "output_type": "display_data",
          "metadata": {},
          "data": {
            "text/plain": [
              "['version',\n",
              " 'timestamp',\n",
              " 'userId',\n",
              " 'userName',\n",
              " 'operation',\n",
              " 'operationParameters',\n",
              " 'job',\n",
              " 'notebook',\n",
              " 'clusterId',\n",
              " 'readVersion',\n",
              " 'isolationLevel',\n",
              " 'isBlindAppend',\n",
              " 'operationMetrics',\n",
              " 'userMetadata',\n",
              " 'engineInfo']"
            ]
          }
        }
      ],
      "source": [
        "# Oversikt over alle kolonner som finnes i historien\n",
        "history.columns"
      ],
      "id": "a596ee4f-5773-4f24-a1fb-621574f4e1ba"
    },
    {
      "cell_type": "code",
      "execution_count": 17,
      "metadata": {
        "tags": []
      },
      "outputs": [],
      "source": [
        "# Velger de kolonnene jeg er interessert i\n",
        "selected_history = deltaTable.history().select(\n",
        "    \"version\", \"timestamp\", \"operation\", \"operationParameters\"\n",
        ")"
      ],
      "id": "1baa4548-8ab3-406b-a76e-ea9b4191bf71"
    },
    {
      "cell_type": "code",
      "execution_count": 18,
      "metadata": {
        "tags": []
      },
      "outputs": [
        {
          "output_type": "stream",
          "name": "stdout",
          "text": [
            "+-------+-----------------------+---------+--------------------------------------+\n",
            "|version|              timestamp|operation|                   operationParameters|\n",
            "+-------+-----------------------+---------+--------------------------------------+\n",
            "|      2|2023-10-10 12:55:45.014|    WRITE|   {mode -> Append, partitionBy -> []}|\n",
            "|      1|2023-10-10 12:55:37.054|   UPDATE|        {predicate -> (id#4452L = 13)}|\n",
            "|      0|2023-10-10 12:55:29.048|    WRITE|{mode -> Overwrite, partitionBy -> []}|\n",
            "+-------+-----------------------+---------+--------------------------------------+\n"
          ]
        }
      ],
      "source": [
        "# Display the selected columns\n",
        "selected_history.show(truncate=50)"
      ],
      "id": "5178957e-f735-4434-8b1b-d94a9d77ee93"
    },
    {
      "cell_type": "markdown",
      "metadata": {},
      "source": [
        "## Egendefinert metadata\n",
        "\n",
        "Delta Lake støtter også egendefinert metadata. Det kan for eksempel være\n",
        "nyttig hvis man ønsker å bruke Delta Lake som en backend for et GUI som\n",
        "lar brukeren oppdatere en tabell fra GUI-et. Da ønsker man typisk å\n",
        "lagre hvem som gjorde endringer og når det ble gjort. La oss legge på\n",
        "noe slik metadata:"
      ],
      "id": "06a6fdd2-f69f-461f-a3bf-072a55b8778e"
    },
    {
      "cell_type": "code",
      "execution_count": 19,
      "metadata": {
        "tags": []
      },
      "outputs": [],
      "source": [
        "# Leser inn filen\n",
        "df = spark.read.format(\"delta\").load(\"gs://ssb-dapla-felles-data-produkt-prod/temp4\")"
      ],
      "id": "80128e45-f7a3-4050-b34e-539b814e4f45"
    },
    {
      "cell_type": "code",
      "execution_count": 20,
      "metadata": {
        "tags": []
      },
      "outputs": [
        {
          "output_type": "display_data",
          "metadata": {},
          "data": {
            "text/plain": [
              "{'comment': 'Kontaktet oppgavegiver og kranglet!',\n",
              " 'manueltEditert': 'True',\n",
              " 'maskineltEditert': 'False'}"
            ]
          }
        }
      ],
      "source": [
        "# Lagrer egendefinert metadata i en json-fil\n",
        "import json\n",
        "\n",
        "metadata = {\n",
        "    \"comment\": \"Kontaktet oppgavegiver og kranglet!\",\n",
        "    \"manueltEditert\": \"True\",\n",
        "    \"maskineltEditert\": \"False\",\n",
        "}\n",
        "metadata"
      ],
      "id": "cell-show-meta"
    },
    {
      "cell_type": "markdown",
      "metadata": {},
      "source": [
        "Vi kan deretter appende dette til den siste versjonen av fila."
      ],
      "id": "316f24f7-bf53-44e5-ae1e-8311730a5a2c"
    },
    {
      "cell_type": "code",
      "execution_count": 21,
      "metadata": {
        "tags": []
      },
      "outputs": [],
      "source": [
        "(\n",
        "    df.write.format(\"delta\")\n",
        "    .mode(\"append\")\n",
        "    .option(\"userMetadata\", json.dumps(metadata))  # Serialize metadata to a string\n",
        "    .save(\"gs://ssb-dapla-felles-data-produkt-prod/temp4\")\n",
        ")"
      ],
      "id": "2f5ae1c3-64b8-4864-b174-443481aa5364"
    },
    {
      "cell_type": "code",
      "execution_count": 22,
      "metadata": {
        "tags": []
      },
      "outputs": [],
      "source": [
        "# Laster inn tabellen\n",
        "deltaTable = DeltaTable.forPath(spark, \"gs://ssb-dapla-felles-data-produkt-prod/temp4\")\n",
        "\n",
        "# Henter ut historien\n",
        "history_df = deltaTable.history()"
      ],
      "id": "66e15b79-7bd1-44ec-a278-e5f758122ea6"
    },
    {
      "cell_type": "code",
      "execution_count": 23,
      "metadata": {
        "tags": []
      },
      "outputs": [
        {
          "output_type": "stream",
          "name": "stdout",
          "text": [
            "+-------+----------+---------+-------------------+------------+\n",
            "|version| timestamp|operation|operationParameters|userMetadata|\n",
            "+-------+----------+---------+-------------------+------------+\n",
            "|      3|2023-10...|    WRITE|         {mode -...|  {\"comme...|\n",
            "|      2|2023-10...|    WRITE|         {mode -...|        null|\n",
            "|      1|2023-10...|   UPDATE|         {predic...|        null|\n",
            "|      0|2023-10...|    WRITE|         {mode -...|        null|\n",
            "+-------+----------+---------+-------------------+------------+\n"
          ]
        }
      ],
      "source": [
        "# Show the operation details, including metadata\n",
        "history_df.select(\n",
        "    \"version\", \"timestamp\", \"operation\", \"operationParameters\", \"userMetadata\"\n",
        ").show(truncate=10)"
      ],
      "id": "da236532-cacb-4e23-8669-f323944a2326"
    },
    {
      "cell_type": "code",
      "execution_count": 24,
      "metadata": {
        "tags": []
      },
      "outputs": [
        {
          "output_type": "stream",
          "name": "stdout",
          "text": [
            "+-------+--------------------------------------------------+\n",
            "|version|                                      userMetadata|\n",
            "+-------+--------------------------------------------------+\n",
            "|      3|{\"comment\": \"Kontaktet oppgavegiver og kranglet...|\n",
            "|      2|                                              null|\n",
            "|      1|                                              null|\n",
            "|      0|                                              null|\n",
            "+-------+--------------------------------------------------+\n"
          ]
        }
      ],
      "source": [
        "history_df.select(\"version\", \"userMetadata\").show(truncate=50)"
      ],
      "id": "8004531b-c729-4f63-9495-1bd45adce7ea"
    },
    {
      "cell_type": "markdown",
      "metadata": {},
      "source": [
        "Vi ser at vi la til vår egen metadata i versjon 3 av fila. Vi kan printe\n",
        "ut den rå transaksjonsloggen som tidligere, men nå er vi på transaksjon\n",
        "3 `00000000000000000003.json`:"
      ],
      "id": "9732ba16-a9b4-40c8-b98c-827589082af2"
    },
    {
      "cell_type": "code",
      "execution_count": 25,
      "metadata": {
        "tags": []
      },
      "outputs": [
        {
          "output_type": "stream",
          "name": "stdout",
          "text": [
            "{\n",
            "    \"commitInfo\": {\n",
            "        \"timestamp\": 1696942553907,\n",
            "        \"operation\": \"WRITE\",\n",
            "        \"operationParameters\": {\n",
            "            \"mode\": \"Append\",\n",
            "            \"partitionBy\": \"[]\"\n",
            "        },\n",
            "        \"readVersion\": 2,\n",
            "        \"isolationLevel\": \"Serializable\",\n",
            "        \"isBlindAppend\": false,\n",
            "        \"operationMetrics\": {\n",
            "            \"numFiles\": \"2\",\n",
            "            \"numOutputRows\": \"7\",\n",
            "            \"numOutputBytes\": \"989\"\n",
            "        },\n",
            "        \"userMetadata\": \"{\\\"comment\\\": \\\"Kontaktet oppgavegiver og kranglet!\\\", \\\"manueltEditert\\\": \\\"True\\\", \\\"maskineltEditert\\\": \\\"False\\\"}\",\n",
            "        \"engineInfo\": \"Apache-Spark/3.3.1 Delta-Lake/2.3.0\",\n",
            "        \"txnId\": \"e7de92bf-b0f9-4341-8bbb-9b382f2f3eb6\"\n",
            "    }\n",
            "}\n",
            "--------------------------------------------------\n",
            "{\n",
            "    \"add\": {\n",
            "        \"path\": \"part-00000-96369f3d-fe4a-4365-a0df-00c813027399-c000.snappy.parquet\",\n",
            "        \"partitionValues\": {},\n",
            "        \"size\": 503,\n",
            "        \"modificationTime\": 1696942553856,\n",
            "        \"dataChange\": true,\n",
            "        \"stats\": \"{\\\"numRecords\\\":5,\\\"minValues\\\":{\\\"id\\\":10},\\\"maxValues\\\":{\\\"id\\\":15},\\\"nullCount\\\":{\\\"id\\\":0}}\"\n",
            "    }\n",
            "}\n",
            "--------------------------------------------------\n",
            "{\n",
            "    \"add\": {\n",
            "        \"path\": \"part-00001-0f1bc8e6-093b-49a9-ad0b-78d5a148cfb6-c000.snappy.parquet\",\n",
            "        \"partitionValues\": {},\n",
            "        \"size\": 486,\n",
            "        \"modificationTime\": 1696942553853,\n",
            "        \"dataChange\": true,\n",
            "        \"stats\": \"{\\\"numRecords\\\":2,\\\"minValues\\\":{\\\"id\\\":20},\\\"maxValues\\\":{\\\"id\\\":21},\\\"nullCount\\\":{\\\"id\\\":0}}\"\n",
            "    }\n",
            "}\n",
            "--------------------------------------------------"
          ]
        }
      ],
      "source": [
        "from dapla import FileClient\n",
        "\n",
        "# Kobler oss på bøttene\n",
        "fs = FileClient.get_gcs_file_system()\n",
        "\n",
        "# Filsti\n",
        "path = \"gs://ssb-dapla-felles-data-produkt-prod/temp4/_delta_log/00000000000000000003.json\"\n",
        "\n",
        "with fs.open(path, \"r\") as f:\n",
        "    for line in f:\n",
        "        data = json.loads(line)\n",
        "        pretty_content = json.dumps(data, indent=4)\n",
        "        print(pretty_content)\n",
        "        print(\"-\" * 50)  # Print separator for clarity"
      ],
      "id": "f5099b8b-408b-420d-828d-6689c746160f"
    },
    {
      "cell_type": "markdown",
      "metadata": {},
      "source": [
        "Vi er da at metadataene ligger som forventet i metadata-delen."
      ],
      "id": "231dbf3d-f9f2-4efc-9f2f-2f2c4b85af22"
    }
  ],
  "nbformat": 4,
  "nbformat_minor": 5,
  "metadata": {
    "kernelspec": {
      "name": "delta-lake-manual",
      "display_name": "delta-lake-manual",
      "language": "python"
    },
    "language_info": {
      "name": "python",
      "codemirror_mode": {
        "name": "ipython",
        "version": "3"
      },
      "file_extension": ".py",
      "mimetype": "text/x-python",
      "nbconvert_exporter": "python",
      "pygments_lexer": "ipython3",
      "version": "3.10.9"
    }
  }
}