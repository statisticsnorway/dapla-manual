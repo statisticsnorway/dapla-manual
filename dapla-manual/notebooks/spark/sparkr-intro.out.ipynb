{
  "cells": [
    {
      "cell_type": "markdown",
      "metadata": {},
      "source": [
        "# Introduksjon til SparkR\n",
        "\n",
        "Akkurat som PySpark så gir\n",
        "[SparkR](https://spark.apache.org/docs/latest/sparkr) oss et grensesnitt\n",
        "mot Apache Spark fra R. I denne notebooken viser vi noen eksempler\n",
        "hvordan du gjøre vanlige operasjoner med SparkR.\n",
        "\n",
        "## Oppsett\n",
        "\n",
        "Eksemplene i notebooken bruker `SparkR (k8s cluster)` på\n",
        "<https://jupyter.dapla.ssb.no/>. Det vil si at den kan distribuere\n",
        "kjøringene på flere maskiner i Kubernetes."
      ],
      "id": "f1cc4c1d-3542-484b-9de4-717384a92c76"
    },
    {
      "cell_type": "code",
      "execution_count": 1,
      "metadata": {
        "tags": [],
        "vscode": {
          "languageId": "r"
        }
      },
      "outputs": [
        {
          "output_type": "display_data",
          "metadata": {},
          "data": {
            "text/plain": [
              "Java ref type org.apache.spark.sql.SparkSession id 1 "
            ]
          }
        }
      ],
      "source": [
        "spark"
      ],
      "id": "8e85a49a-c02d-443c-a516-50eeca8c1ddd"
    },
    {
      "cell_type": "markdown",
      "metadata": {},
      "source": [
        "## Lese inn fil"
      ],
      "id": "389b95f2-14b0-4547-a42d-13b78e9a5895"
    },
    {
      "cell_type": "code",
      "execution_count": 2,
      "metadata": {
        "tags": [],
        "vscode": {
          "languageId": "r"
        }
      },
      "outputs": [],
      "source": [
        "file = read.parquet(\"gs://ssb-dapla-felles-data-produkt-prod/temp/timeseries.parquet\")"
      ],
      "id": "8c256b40-6f6d-4a3b-941f-6e4be26c1af5"
    },
    {
      "cell_type": "code",
      "execution_count": 3,
      "metadata": {
        "tags": [],
        "vscode": {
          "languageId": "r"
        }
      },
      "outputs": [
        {
          "output_type": "stream",
          "name": "stdout",
          "text": [
            "+----------+----+-------+-----+------------------+------------------+\n",
            "|      Date|Year|Quarter|Month|           serie00|           serie01|\n",
            "+----------+----+-------+-----+------------------+------------------+\n",
            "|2000-01-01|2000|      1|   01| 9.495232388801012|   19.016168503192|\n",
            "|2000-02-01|2000|      1|   02| 10.70952411634649|21.404467063442723|\n",
            "|2000-03-01|2000|      1|   03|11.118293927071951| 21.25035527677261|\n",
            "|2000-04-01|2000|      2|   04| 9.346911680164684|19.982136698759238|\n",
            "|2000-05-01|2000|      2|   05| 9.663303382177363|19.925236690504494|\n",
            "+----------+----+-------+-----+------------------+------------------+\n",
            "only showing top 5 rows"
          ]
        }
      ],
      "source": [
        "selectedColumns <- select(file, \"Date\", \"Year\", \"Quarter\", \"Month\", \"serie00\", \"serie01\")\n",
        "showDF(selectedColumns, numRows = 5)"
      ],
      "id": "print-cell"
    },
    {
      "cell_type": "markdown",
      "metadata": {},
      "source": [
        "# Skrive ut fil\n",
        "\n",
        "Under skriver vi ut en fil og spesifiserer at vi overskriver evt filer\n",
        "med samme navn."
      ],
      "id": "0bf05d45-3fd6-425f-b0b7-349bfcd80ef6"
    },
    {
      "cell_type": "code",
      "execution_count": 4,
      "metadata": {
        "tags": [],
        "vscode": {
          "languageId": "r"
        }
      },
      "outputs": [],
      "source": [
        "write.parquet(file,\n",
        "              \"gs://ssb-dapla-felles-data-produkt-prod/temp/timeseries_copy.parquet\",\n",
        "              mode = \"overwrite\")"
      ],
      "id": "354a5c54-53c7-4b21-a83b-f549a8a90289"
    }
  ],
  "nbformat": 4,
  "nbformat_minor": 5,
  "metadata": {
    "kernelspec": {
      "name": "ir_k8s",
      "display_name": "SparkR (k8s cluster)",
      "language": "R"
    },
    "language_info": {
      "name": "R",
      "codemirror_mode": "r",
      "file_extension": ".r",
      "mimetype": "text/x-r-source",
      "pygments_lexer": "r",
      "version": "4.3.1"
    }
  }
}