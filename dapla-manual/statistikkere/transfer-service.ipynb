{
 "cells": [
  {
   "attachments": {},
   "cell_type": "raw",
   "metadata": {},
   "source": [
    "---\n",
    "freeze: true\n",
    "---"
   ]
  },
  {
   "attachments": {},
   "cell_type": "markdown",
   "metadata": {},
   "source": [
    "# Transfer Service\n",
    "\n",
    "[Storage Transfer Service](https://cloud.google.com/storage-transfer-service)^[I SSB kaller vi tjenesten for *Transfer Service*, men du kan oppleve at Google kaller den litt forskjellige ting. Den blir omtalt som *Storage Transfer Service* noen steder, mens i *Google Cloud Console* blir den omtalt som *Data Transfer* eller *Storage Transfer*] er en Google-tjeneste for å flytte data mellom lagringsområder. I SSB bruker vi hovedsakelig tjenesten til å: \n",
    "\n",
    "1. Flytte data mellom et Dapla-team sine bøtter på Dapla og deres lagringsområde i prodsonen. \n",
    "\n",
    "2. Flytte data mellom bøtter på Dapla^[Flytting av data mellom bøtter krever at prosjektets Transfer Service har tilgang til begge bøttene.].\n",
    "\n",
    "Tjenesten støtter både automatiserte og ad-hoc overføringer, og den inkluderer et brukergrensesnitt for å sette opp og administrere overføringene i [Google Cloud Console (GCC)](https://console.cloud.google.com/).\n",
    "\n",
    "Under viser vi hvordan du kan sette dette opp selv i dine prosjekter.\n",
    "\n",
    "## To Transfer Services\n",
    "\n",
    "Hvert Dapla-team som har bedt om å få *skrudd på* Transfer Service vil få en Transfer Service for hvert av de to prosjektene sine. Det skyldes at det kun er teamets **data-admins** som skal ha tilgang til å sette opp overføringer knyttet til kildedata, mens alle i teamet skal ha tilgang til å sette opp overføringer fra produktprosjektet.\n",
    "\n",
    "## Prodsonen\n",
    "\n",
    "Overføring av data mellom prodsonen og Dapla skjer via dedikerte lagringsområder i prodsonen. Når et team opprettes \n",
    "\n",
    "```{.yaml filename=\"/ssb/cloud_sync/dapla-example/\"}\n",
    "ssb\n",
    "│\n",
    "├── cloud_sync\n",
    "│   │\n",
    "│   └── dapla-example\n",
    "│       │\n",
    "│       ├── kilde\n",
    "│       │   │\n",
    "│       │   │── tilsky\n",
    "│       │   │\n",
    "│       │   └── frasky\n",
    "│       │\n",
    "│       └── produkt\n",
    "│           │\n",
    "│           │── tilsky\n",
    "│           │\n",
    "│           └── frasky\n",
    "\n",
    "```"
   ]
  },
  {
   "cell_type": "code",
   "execution_count": 1,
   "metadata": {},
   "outputs": [],
   "source": [
    "# | echo: false\n",
    "\n",
    "# Lager et diagram\n",
    "from diagrams import Cluster, Diagram, Edge\n",
    "from diagrams.gcp.storage import GCS\n",
    "from diagrams.generic.storage import Storage\n",
    "from diagrams.generic.blank import Blank\n",
    "\n",
    "graph_attr_cluster = {\n",
    "    \"fontsize\": \"8\",\n",
    "    \"bgcolor\": \"lightyellow\",\n",
    "    \"gradientangle\": \"360\"\n",
    "    # \"style\": 'filled',\n",
    "    # \"label\": \"test\",\n",
    "    # \"fontcolor\": \"blue\",\n",
    "}\n",
    "\n",
    "graph_attr_diagram = {\n",
    "    # \"fontsize\": \"45\",\n",
    "    \"bgcolor\": \"transparent\"\n",
    "}\n",
    "\n",
    "with Diagram(\n",
    "    \"\", show=False, filename=\"ts-kilde\", graph_attr={}, direction=\"TB\"\n",
    "):\n",
    "    with Cluster(\"DAPLA\", graph_attr={\"fontsize\": \"20\"}):\n",
    "        Blank(\"\")\n",
    "\n",
    "        with Cluster(\"kilde\", graph_attr=graph_attr_cluster):\n",
    "            dkf = GCS(\"synk_ned\")\n",
    "            dkt = GCS(\"synk_opp\")\n",
    "\n",
    "        with Cluster(\"produkt\", graph_attr=graph_attr_cluster):\n",
    "            dpf = GCS(\"synk_ned\")\n",
    "            dpt = GCS(\"synk_opp\")\n",
    "\n",
    "    with Cluster(\"PRODSONE\", graph_attr={\"fontsize\": \"20\", \"bgcolor\": \"lightgrey\"}):\n",
    "        Blank(\"/ssb/cloud_sync/\")\n",
    "\n",
    "        with Cluster(\"kilde\", graph_attr=graph_attr_cluster):\n",
    "            okf = Storage(\"frasky\")\n",
    "            okt = Storage(\"tilsky\")\n",
    "\n",
    "        with Cluster(\"produkt\", graph_attr=graph_attr_cluster):\n",
    "            opf = Storage(\"frasky\")\n",
    "            opt = Storage(\"tilsky\")\n",
    "\n",
    "        edge_admins = Edge(xlabel=\"data-admins\")\n",
    "        edge_devs = Edge(xlabel=\"developers\")\n",
    "\n",
    "    dkf >> edge_admins >> okf\n",
    "    okt >> dkt\n",
    "    dpf >> edge_devs >> opf\n",
    "    opt >> dpt\n"
   ]
  },
  {
   "cell_type": "code",
   "execution_count": 2,
   "metadata": {},
   "outputs": [],
   "source": [
    "#| echo: false\n",
    "\n",
    "# Cropper bildet så det skal ta mindre plass\n",
    "from PIL import Image\n",
    "\n",
    "# Open the image\n",
    "img = Image.open(\"ts-kilde.png\")\n",
    "\n",
    "# Define the coordinates for the cropping box\n",
    "# The box is defined as (left, upper, right, lower)\n",
    "left = 200\n",
    "upper = 200\n",
    "right = 1150\n",
    "lower = 800\n",
    "cropping_box = (left, upper, right, lower)\n",
    "\n",
    "# Crop the image\n",
    "cropped_img = img.crop(cropping_box)\n",
    "\n",
    "# Save the cropped image\n",
    "cropped_img.save(\"ts-kilde-cropped.png\")"
   ]
  },
  {
   "attachments": {},
   "cell_type": "markdown",
   "metadata": {},
   "source": [
    "![blabla](ts-kilde-cropped.png){fig-alt=\"Bilde av SSB sitt intranett der Dapla-lenken er uthevet\" #fig-ts2}"
   ]
  },
  {
   "attachments": {},
   "cell_type": "markdown",
   "metadata": {},
   "source": [
    "jdhfdsjkfhkjdshfkjdsh"
   ]
  }
 ],
 "metadata": {
  "kernelspec": {
   "display_name": "test-project",
   "language": "python",
   "name": "test"
  },
  "language_info": {
   "codemirror_mode": {
    "name": "ipython",
    "version": 3
   },
   "file_extension": ".py",
   "mimetype": "text/x-python",
   "name": "python",
   "nbconvert_exporter": "python",
   "pygments_lexer": "ipython3",
   "version": "3.11.6"
  }
 },
 "nbformat": 4,
 "nbformat_minor": 2
}
