{
  "cells": [
    {
      "cell_type": "raw",
      "metadata": {},
      "source": [
        "---\n",
        "title: Tilgangsstyring\n",
        "freeze: true\n",
        "execute:\n",
        "    echo: false\n",
        "    include: true\n",
        "---"
      ],
      "id": "0bc8dc26"
    },
    {
      "cell_type": "code",
      "metadata": {},
      "source": [
        "import sys\n",
        "import os\n",
        "sys.path.append(\"..\")\n",
        "\n",
        "from functions.metadata import get_last_modified\n",
        "\n",
        "file_path = os.path.abspath('tilgangsstyring.qmd')\n",
        "print(get_last_modified(file_path, False))"
      ],
      "id": "6f2b79b1",
      "execution_count": null,
      "outputs": []
    },
    {
      "cell_type": "markdown",
      "metadata": {},
      "source": [
        "Hvert Dapla-team har sine egne lagringsområder for data som ingen andre har tilgang til, med mindre teamet eksplisitt velger å dele data med andre team. I tillegg har teamet tilgang til egne ressurser for å behandle dataene. \n",
        "\n",
        "Det er tilgangsgruppen [managers](./hva-er-dapla-team.html#managers) som bestemmer hvilke personer som skal ha hvilke roller i et team, og dermed hvilke data de ulike team-medlemmene får tilgang til. Den som jobber med data kan bli plassert i tilgangsgruppene [data-admins](./hva-er-dapla-team.html#data-admins) eller [developers](./hva-er-dapla-team.html#developers). Sistnevnte får tilgang til alle datatilstander utenom kildedata, mens *data-admins* er forhåndsgodkjent til å også å aksessere kildedata ved behov. Dermed er *data-admins* en priveligert rolle på teamet som er forbeholdt noen få personer.\n"
      ],
      "id": "344bc053"
    },
    {
      "cell_type": "code",
      "metadata": {},
      "source": [
        "# | echo: false\n",
        "\n",
        "from diagrams import Diagram, Cluster, Edge\n",
        "from diagrams.custom import Custom\n",
        "from PIL import Image\n",
        "\n",
        "with Diagram(\"\", filename=\"../images/dp-tilganger\", show=True, graph_attr={\"bgcolor\": \"transparent\"}):\n",
        "    with Cluster(\"Sensitivt\", graph_attr={\"fontsize\": \"12\", \"bgcolor\": \"lightyellow\"}):\n",
        "        kildedata = Custom(\"Kildedata\", \"../images/cloud-storage-generic-icon.png\")\n",
        "\n",
        "    with Cluster(\"Skjermet\"):\n",
        "        Annen_data = Custom(\"Annen data\", \"../images/cloud-storage-generic-icon.png\")\n",
        "\n",
        "    with Cluster(\"developers\"):\n",
        "        developers = [Custom(\"\", \"../images/multiple-users.png\")]\n",
        "        developers >> Edge(label=\"Alltid tilgang\") >> Annen_data\n",
        "\n",
        "    with Cluster(\n",
        "        \"data-admins\", graph_attr={\"fontsize\": \"12\", \"bgcolor\": \"lightyellow\"}\n",
        "    ):\n",
        "        data_admins = [Custom(\"\", \"../images/multiple-users.png\")]\n",
        "        (\n",
        "            data_admins\n",
        "            >> Edge(style=\"dashed\", label=\"Mildertidig tilgang ved behov\")\n",
        "            >> kildedata\n",
        "        )\n",
        "        data_admins >> Edge(label=\"Alltid tilgang\") >> Annen_data\n",
        "\n",
        "# Cropper bildet så det skal ta mindre plass\n",
        "# Open the image\n",
        "img = Image.open(\"../images/dp-tilganger.png\")\n",
        "\n",
        "# Define the coordinates for the cropping box\n",
        "# The box is defined as (left, upper, right, lower)\n",
        "left = 200\n",
        "upper = 170\n",
        "right = 1050\n",
        "lower = 700\n",
        "cropping_box = (left, upper, right, lower)\n",
        "\n",
        "# Crop the image\n",
        "cropped_img = img.crop(cropping_box)\n",
        "\n",
        "# Save the cropped image\n",
        "cropped_img.save(\"../images/dp-tilganger-cropped.png\")"
      ],
      "id": "04cca76a",
      "execution_count": null,
      "outputs": []
    },
    {
      "cell_type": "markdown",
      "metadata": {},
      "source": [
        "![Datatilstander som et team sitt medlemmer har ilgang til.](../images/dp-tilganger-cropped.png){fig-alt=\"Diagram av av hvilke \" #fig-dp-tilganger}\n",
        "\n",
        "@fig-dp-tilganger viser hvem som har tilgang til hvilke datatilstander. Som nevnt er *data-admins* ansett som forhåndsgodkjent til å aksessere kildedata ved behov. Måten dette er implementert på er at *data-admins* må aktivere denne tilgangen selv, ved å bruke et [JIT-grensesnitt (Just-In-Time Access)](./jit.html). Tilgangen krever en begrunnelse og bruken kan løpende monitoreres av *managers* for teamet. "
      ],
      "id": "11225abf"
    }
  ],
  "metadata": {
    "kernelspec": {
      "name": "python3",
      "language": "python",
      "display_name": "Python 3 (ipykernel)"
    }
  },
  "nbformat": 4,
  "nbformat_minor": 5
}