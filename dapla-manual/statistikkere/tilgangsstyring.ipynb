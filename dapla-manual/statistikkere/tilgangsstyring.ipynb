{
 "cells": [
  {
   "cell_type": "raw",
   "metadata": {},
   "source": [
    "---\n",
    "freeze: true\n",
    "---"
   ]
  },
  {
   "attachments": {},
   "cell_type": "markdown",
   "metadata": {},
   "source": [
    "# Tilgangsstyring\n",
    "\n",
    "**Nevne tilgangsstyringspolicyen i SSB**\n",
    "\n",
    "Hvert Dapla-team har sine egne lagringsområder for data som ingen andre har tilgang til, med mindre teamet eksplisitt velger å dele data med andre team. I tillegg har teamet tilgang til egne ressurser for å behandle dataene. \n",
    "\n",
    "Det er tilgangsgruppen [managers](./hva-er-dapla-team.html#managers) som bestemmer hvilke personer som skal ha hvilke roller i et team, og dermed hvilke data de ulike team-medlemmene får tilgang til. Den som jobber med data kan bli plassert i tilgangsgruppene [data-admins](./hva-er-dapla-team.html#data-admins) eller [developers](./hva-er-dapla-team.html#developers). Sistnevnte får tilgang til alle datatilstander utenom kildedata, mens *data-admins* er forhåndsgodkjent til å også å aksessere kildedata ved behov. Dermed er *data-admins* en priveligert rolle på teamet som er forbeholdt noen få personer."
   ]
  },
  {
   "cell_type": "code",
   "execution_count": null,
   "metadata": {},
   "outputs": [],
   "source": [
    "# | echo: false\n",
    "\n",
    "from diagrams import Diagram, Cluster, Edge\n",
    "from diagrams.custom import Custom\n",
    "from PIL import Image\n",
    "\n",
    "with Diagram(\"\", filename=\"../images/dp-tilganger\", show=True, graph_attr={\"bgcolor\": \"transparent\"}):\n",
    "    with Cluster(\"Sensitivt\", graph_attr={\"fontsize\": \"12\", \"bgcolor\": \"lightyellow\"}):\n",
    "        kildedata = Custom(\"Kildedata\", \"../images/cloud-storage-generic-icon.png\")\n",
    "\n",
    "    with Cluster(\"Skjermet\"):\n",
    "        Annen_data = Custom(\"Annen data\", \"../images/cloud-storage-generic-icon.png\")\n",
    "\n",
    "    with Cluster(\"developers\"):\n",
    "        developers = [Custom(\"\", \"../images/multiple-users.png\")]\n",
    "        developers >> Edge(label=\"Alltid tilgang\") >> Annen_data\n",
    "\n",
    "    with Cluster(\n",
    "        \"data-admins\", graph_attr={\"fontsize\": \"12\", \"bgcolor\": \"lightyellow\"}\n",
    "    ):\n",
    "        data_admins = [Custom(\"\", \"../images/multiple-users.png\")]\n",
    "        (\n",
    "            data_admins\n",
    "            >> Edge(style=\"dashed\", label=\"Mildertidig tilgang ved behov\")\n",
    "            >> kildedata\n",
    "        )\n",
    "        data_admins >> Edge(label=\"Alltid tilgang\") >> Annen_data\n",
    "\n",
    "# Cropper bildet så det skal ta mindre plass\n",
    "# Open the image\n",
    "img = Image.open(\"../images/dp-tilganger.png\")\n",
    "\n",
    "# Define the coordinates for the cropping box\n",
    "# The box is defined as (left, upper, right, lower)\n",
    "left = 200\n",
    "upper = 170\n",
    "right = 1050\n",
    "lower = 700\n",
    "cropping_box = (left, upper, right, lower)\n",
    "\n",
    "# Crop the image\n",
    "cropped_img = img.crop(cropping_box)\n",
    "\n",
    "# Save the cropped image\n",
    "cropped_img.save(\"../images/dp-tilganger-cropped.png\")"
   ]
  },
  {
   "attachments": {},
   "cell_type": "markdown",
   "metadata": {},
   "source": [
    "![Datatilstander som et team sitt medlemmer har ilgang til.](../images/dp-tilganger-cropped.png){fig-alt=\"Diagram av av hvilke \" #fig-dp-tilganger}"
   ]
  },
  {
   "attachments": {},
   "cell_type": "markdown",
   "metadata": {},
   "source": [
    "@fig-dp-tilganger viser hvem som har tilgang til hvilke datatilstander. Som nevnt er *data-admins* ansett som forhåndsgodkjent til å aksessere kildedata ved behov. Måten dette er implementert på er at *data-admins* må aktivere denne tilgangen selv, ved å bruke et [JIT-grensesnitt (Just-In-Time Access)](https://jitaccess.dapla.ssb.no/). Tilgangen krever en begrunnelse og bruken kan løpende monitoreres av *managers* for teamet. "
   ]
  }
 ],
 "metadata": {
  "kernelspec": {
   "display_name": "test-project",
   "language": "python",
   "name": "test"
  },
  "language_info": {
   "codemirror_mode": {
    "name": "ipython",
    "version": 3
   },
   "file_extension": ".py",
   "mimetype": "text/x-python",
   "name": "python",
   "nbconvert_exporter": "python",
   "pygments_lexer": "ipython3",
   "version": "3.11.6"
  }
 },
 "nbformat": 4,
 "nbformat_minor": 2
}
