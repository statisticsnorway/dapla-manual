{
 "cells": [
  {
   "cell_type": "raw",
   "metadata": {},
   "source": [
    "---\n",
    "freeze: true\n",
    "---"
   ]
  },
  {
   "cell_type": "code",
   "execution_count": 1,
   "metadata": {},
   "outputs": [],
   "source": [
    "# | echo: false\n",
    "\n",
    "# Lager et diagram\n",
    "from diagrams import Cluster, Diagram, Edge\n",
    "from diagrams.gcp.storage import GCS\n",
    "from diagrams.generic.storage import Storage\n",
    "from diagrams.generic.blank import Blank\n",
    "\n",
    "graph_attr_cluster = {\n",
    "    \"fontsize\": \"8\",\n",
    "    \"bgcolor\": \"lightyellow\",\n",
    "    \"gradientangle\": \"360\"\n",
    "    # \"style\": 'filled',\n",
    "    # \"label\": \"test\",\n",
    "    # \"fontcolor\": \"blue\",\n",
    "}\n",
    "\n",
    "graph_attr_diagram = {\n",
    "    # \"fontsize\": \"45\",\n",
    "    \"bgcolor\": \"transparent\"\n",
    "}\n",
    "\n",
    "with Diagram(\n",
    "    \"\", show=False, filename=\"ts-kilde\", graph_attr={}, direction=\"TB\"\n",
    "):\n",
    "    with Cluster(\"DAPLA\", graph_attr={\"fontsize\": \"20\"}):\n",
    "        Blank(\"\")\n",
    "\n",
    "        with Cluster(\"kilde\", graph_attr=graph_attr_cluster):\n",
    "            dkf = GCS(\"synk_ned\")\n",
    "            dkt = GCS(\"synk_opp\")\n",
    "\n",
    "        with Cluster(\"produkt\", graph_attr=graph_attr_cluster):\n",
    "            dpf = GCS(\"synk_ned\")\n",
    "            dpt = GCS(\"synk_opp\")\n",
    "\n",
    "    with Cluster(\"PRODSONE\", graph_attr={\"fontsize\": \"20\", \"bgcolor\": \"lightgrey\"}):\n",
    "        Blank(\"/ssb/cloud_sync/\")\n",
    "\n",
    "        with Cluster(\"kilde\", graph_attr=graph_attr_cluster):\n",
    "            okf = Storage(\"frasky\")\n",
    "            okt = Storage(\"tilsky\")\n",
    "\n",
    "        with Cluster(\"produkt\", graph_attr=graph_attr_cluster):\n",
    "            opf = Storage(\"frasky\")\n",
    "            opt = Storage(\"tilsky\")\n",
    "\n",
    "        edge_admins = Edge(xlabel=\"data-admins\")\n",
    "        edge_devs = Edge(xlabel=\"developers\")\n",
    "\n",
    "    dkf >> edge_admins >> okf\n",
    "    okt >> dkt\n",
    "    dpf >> edge_devs >> opf\n",
    "    opt >> dpt"
   ]
  },
  {
   "cell_type": "code",
   "execution_count": 3,
   "metadata": {},
   "outputs": [],
   "source": [
    "#| echo: false\n",
    "\n",
    "# Cropper bildet så det skal ta mindre plass\n",
    "from PIL import Image\n",
    "\n",
    "# Open the image\n",
    "img = Image.open(\"ts-kilde.png\")\n",
    "\n",
    "# Define the coordinates for the cropping box\n",
    "# The box is defined as (left, upper, right, lower)\n",
    "left = 200\n",
    "upper = 200\n",
    "right = 1150\n",
    "lower = 800\n",
    "cropping_box = (left, upper, right, lower)\n",
    "\n",
    "# Crop the image\n",
    "cropped_img = img.crop(cropping_box)\n",
    "\n",
    "# Save the cropped image\n",
    "cropped_img.save(\"ts-kilde-cropped.png\")"
   ]
  },
  {
   "cell_type": "code",
   "execution_count": null,
   "metadata": {},
   "outputs": [],
   "source": []
  }
 ],
 "metadata": {
  "kernelspec": {
   "display_name": "test-project",
   "language": "python",
   "name": "test"
  },
  "language_info": {
   "codemirror_mode": {
    "name": "ipython",
    "version": 3
   },
   "file_extension": ".py",
   "mimetype": "text/x-python",
   "name": "python",
   "nbconvert_exporter": "python",
   "pygments_lexer": "ipython3",
   "version": "3.11.6"
  },
  "orig_nbformat": 4
 },
 "nbformat": 4,
 "nbformat_minor": 2
}
